{
 "cells": [
  {
   "cell_type": "markdown",
   "metadata": {},
   "source": [
    "# Loan predictions\n",
    "\n",
    "## Problem Statement\n",
    "\n",
    "We want to automate the loan eligibility process based on customer details that are provided as online application forms are being filled. You can find the dataset [here](https://drive.google.com/file/d/1h_jl9xqqqHflI5PsuiQd_soNYxzFfjKw/view?usp=sharing). These details concern the customer's Gender, Marital Status, Education, Number of Dependents, Income, Loan Amount, Credit History and other things as well. \n",
    "\n",
    "|Variable| Description|\n",
    "|: ------------- |:-------------|\n",
    "|Loan_ID| Unique Loan ID|\n",
    "|Gender| Male/ Female|\n",
    "|Married| Applicant married (Y/N)|\n",
    "|Dependents| Number of dependents|\n",
    "|Education| Applicant Education (Graduate/ Under Graduate)|\n",
    "|Self_Employed| Self employed (Y/N)|\n",
    "|ApplicantIncome| Applicant income|\n",
    "|CoapplicantIncome| Coapplicant income|\n",
    "|LoanAmount| Loan amount in thousands|\n",
    "|Loan_Amount_Term| Term of loan in months|\n",
    "|Credit_History| credit history meets guidelines|\n",
    "|Property_Area| Urban/ Semi Urban/ Rural|\n",
    "|Loan_Status| Loan approved (Y/N)\n",
    "\n",
    "\n",
    "\n",
    "### Explore the problem in following stages:\n",
    "\n",
    "1. Hypothesis Generation – understanding the problem better by brainstorming possible factors that can impact the outcome\n",
    "2. Data Exploration – looking at categorical and continuous feature summaries and making inferences about the data.\n",
    "3. Data Cleaning – imputing missing values in the data and checking for outliers\n",
    "4. Feature Engineering – modifying existing variables and creating new ones for analysis\n",
    "5. Model Building – making predictive models on the data"
   ]
  },
  {
   "cell_type": "markdown",
   "metadata": {},
   "source": [
    "## 1. Hypothesis Generation\n",
    "\n",
    "Generating a hypothesis is a major step in the process of analyzing data. This involves understanding the problem and formulating a meaningful hypothesis about what could potentially have a good impact on the outcome. This is done BEFORE looking at the data, and we end up creating a laundry list of the different analyses which we can potentially perform if data is available.\n",
    "\n",
    "#### Possible hypotheses\n",
    "Which applicants are more likely to get a loan\n",
    "\n",
    "1. Applicants having a credit history \n",
    "2. Applicants with higher applicant and co-applicant incomes\n",
    "3. Applicants with higher education level\n",
    "4. Properties in urban areas with high growth perspectives\n",
    "\n",
    "Do more brainstorming and create some hypotheses of your own. Remember that the data might not be sufficient to test all of these, but forming these enables a better understanding of the problem."
   ]
  },
  {
   "cell_type": "markdown",
   "metadata": {},
   "source": [
    "## 2. Data Exploration\n",
    "Let's do some basic data exploration here and come up with some inferences about the data. Go ahead and try to figure out some irregularities and address them in the next section. "
   ]
  },
  {
   "cell_type": "code",
   "execution_count": 1,
   "metadata": {
    "jupyter": {
     "outputs_hidden": false
    },
    "scrolled": true
   },
   "outputs": [
    {
     "data": {
      "text/html": [
       "<div>\n",
       "<style scoped>\n",
       "    .dataframe tbody tr th:only-of-type {\n",
       "        vertical-align: middle;\n",
       "    }\n",
       "\n",
       "    .dataframe tbody tr th {\n",
       "        vertical-align: top;\n",
       "    }\n",
       "\n",
       "    .dataframe thead th {\n",
       "        text-align: right;\n",
       "    }\n",
       "</style>\n",
       "<table border=\"1\" class=\"dataframe\">\n",
       "  <thead>\n",
       "    <tr style=\"text-align: right;\">\n",
       "      <th></th>\n",
       "      <th>Loan_ID</th>\n",
       "      <th>Gender</th>\n",
       "      <th>Married</th>\n",
       "      <th>Dependents</th>\n",
       "      <th>Education</th>\n",
       "      <th>Self_Employed</th>\n",
       "      <th>ApplicantIncome</th>\n",
       "      <th>CoapplicantIncome</th>\n",
       "      <th>LoanAmount</th>\n",
       "      <th>Loan_Amount_Term</th>\n",
       "      <th>Credit_History</th>\n",
       "      <th>Property_Area</th>\n",
       "      <th>Loan_Status</th>\n",
       "    </tr>\n",
       "  </thead>\n",
       "  <tbody>\n",
       "    <tr>\n",
       "      <th>0</th>\n",
       "      <td>LP001002</td>\n",
       "      <td>Male</td>\n",
       "      <td>No</td>\n",
       "      <td>0</td>\n",
       "      <td>Graduate</td>\n",
       "      <td>No</td>\n",
       "      <td>5849</td>\n",
       "      <td>0.0</td>\n",
       "      <td>NaN</td>\n",
       "      <td>360.0</td>\n",
       "      <td>1.0</td>\n",
       "      <td>Urban</td>\n",
       "      <td>Y</td>\n",
       "    </tr>\n",
       "    <tr>\n",
       "      <th>1</th>\n",
       "      <td>LP001003</td>\n",
       "      <td>Male</td>\n",
       "      <td>Yes</td>\n",
       "      <td>1</td>\n",
       "      <td>Graduate</td>\n",
       "      <td>No</td>\n",
       "      <td>4583</td>\n",
       "      <td>1508.0</td>\n",
       "      <td>128.0</td>\n",
       "      <td>360.0</td>\n",
       "      <td>1.0</td>\n",
       "      <td>Rural</td>\n",
       "      <td>N</td>\n",
       "    </tr>\n",
       "    <tr>\n",
       "      <th>2</th>\n",
       "      <td>LP001005</td>\n",
       "      <td>Male</td>\n",
       "      <td>Yes</td>\n",
       "      <td>0</td>\n",
       "      <td>Graduate</td>\n",
       "      <td>Yes</td>\n",
       "      <td>3000</td>\n",
       "      <td>0.0</td>\n",
       "      <td>66.0</td>\n",
       "      <td>360.0</td>\n",
       "      <td>1.0</td>\n",
       "      <td>Urban</td>\n",
       "      <td>Y</td>\n",
       "    </tr>\n",
       "    <tr>\n",
       "      <th>3</th>\n",
       "      <td>LP001006</td>\n",
       "      <td>Male</td>\n",
       "      <td>Yes</td>\n",
       "      <td>0</td>\n",
       "      <td>Not Graduate</td>\n",
       "      <td>No</td>\n",
       "      <td>2583</td>\n",
       "      <td>2358.0</td>\n",
       "      <td>120.0</td>\n",
       "      <td>360.0</td>\n",
       "      <td>1.0</td>\n",
       "      <td>Urban</td>\n",
       "      <td>Y</td>\n",
       "    </tr>\n",
       "    <tr>\n",
       "      <th>4</th>\n",
       "      <td>LP001008</td>\n",
       "      <td>Male</td>\n",
       "      <td>No</td>\n",
       "      <td>0</td>\n",
       "      <td>Graduate</td>\n",
       "      <td>No</td>\n",
       "      <td>6000</td>\n",
       "      <td>0.0</td>\n",
       "      <td>141.0</td>\n",
       "      <td>360.0</td>\n",
       "      <td>1.0</td>\n",
       "      <td>Urban</td>\n",
       "      <td>Y</td>\n",
       "    </tr>\n",
       "  </tbody>\n",
       "</table>\n",
       "</div>"
      ],
      "text/plain": [
       "    Loan_ID Gender Married Dependents     Education Self_Employed  \\\n",
       "0  LP001002   Male      No          0      Graduate            No   \n",
       "1  LP001003   Male     Yes          1      Graduate            No   \n",
       "2  LP001005   Male     Yes          0      Graduate           Yes   \n",
       "3  LP001006   Male     Yes          0  Not Graduate            No   \n",
       "4  LP001008   Male      No          0      Graduate            No   \n",
       "\n",
       "   ApplicantIncome  CoapplicantIncome  LoanAmount  Loan_Amount_Term  \\\n",
       "0             5849                0.0         NaN             360.0   \n",
       "1             4583             1508.0       128.0             360.0   \n",
       "2             3000                0.0        66.0             360.0   \n",
       "3             2583             2358.0       120.0             360.0   \n",
       "4             6000                0.0       141.0             360.0   \n",
       "\n",
       "   Credit_History Property_Area Loan_Status  \n",
       "0             1.0         Urban           Y  \n",
       "1             1.0         Rural           N  \n",
       "2             1.0         Urban           Y  \n",
       "3             1.0         Urban           Y  \n",
       "4             1.0         Urban           Y  "
      ]
     },
     "execution_count": 1,
     "metadata": {},
     "output_type": "execute_result"
    }
   ],
   "source": [
    "import pandas as pd\n",
    "import numpy as np\n",
    "from matplotlib import pyplot as plt\n",
    "import matplotlib.colors\n",
    "import seaborn as sns\n",
    "import copy\n",
    "\n",
    "df = pd.read_csv(\"data.csv\") \n",
    "df.head()"
   ]
  },
  {
   "cell_type": "markdown",
   "metadata": {},
   "source": [
    "One of the key challenges in any data set are missing values. Lets start by checking which columns contain missing values."
   ]
  },
  {
   "cell_type": "code",
   "execution_count": 2,
   "metadata": {
    "jupyter": {
     "outputs_hidden": false
    }
   },
   "outputs": [],
   "source": [
    "import copy\n",
    "data = copy.deepcopy(df)"
   ]
  },
  {
   "cell_type": "code",
   "execution_count": 3,
   "metadata": {},
   "outputs": [
    {
     "data": {
      "text/html": [
       "<div>\n",
       "<style scoped>\n",
       "    .dataframe tbody tr th:only-of-type {\n",
       "        vertical-align: middle;\n",
       "    }\n",
       "\n",
       "    .dataframe tbody tr th {\n",
       "        vertical-align: top;\n",
       "    }\n",
       "\n",
       "    .dataframe thead th {\n",
       "        text-align: right;\n",
       "    }\n",
       "</style>\n",
       "<table border=\"1\" class=\"dataframe\">\n",
       "  <thead>\n",
       "    <tr style=\"text-align: right;\">\n",
       "      <th></th>\n",
       "      <th>num_missing</th>\n",
       "      <th>percent_missing</th>\n",
       "      <th>dtype</th>\n",
       "      <th>count</th>\n",
       "    </tr>\n",
       "  </thead>\n",
       "  <tbody>\n",
       "    <tr>\n",
       "      <th>Credit_History</th>\n",
       "      <td>50</td>\n",
       "      <td>0.081433</td>\n",
       "      <td>float64</td>\n",
       "      <td>564</td>\n",
       "    </tr>\n",
       "    <tr>\n",
       "      <th>Self_Employed</th>\n",
       "      <td>32</td>\n",
       "      <td>0.052117</td>\n",
       "      <td>object</td>\n",
       "      <td>582</td>\n",
       "    </tr>\n",
       "    <tr>\n",
       "      <th>LoanAmount</th>\n",
       "      <td>22</td>\n",
       "      <td>0.035831</td>\n",
       "      <td>float64</td>\n",
       "      <td>592</td>\n",
       "    </tr>\n",
       "    <tr>\n",
       "      <th>Dependents</th>\n",
       "      <td>15</td>\n",
       "      <td>0.024430</td>\n",
       "      <td>object</td>\n",
       "      <td>599</td>\n",
       "    </tr>\n",
       "    <tr>\n",
       "      <th>Loan_Amount_Term</th>\n",
       "      <td>14</td>\n",
       "      <td>0.022801</td>\n",
       "      <td>float64</td>\n",
       "      <td>600</td>\n",
       "    </tr>\n",
       "    <tr>\n",
       "      <th>Gender</th>\n",
       "      <td>13</td>\n",
       "      <td>0.021173</td>\n",
       "      <td>object</td>\n",
       "      <td>601</td>\n",
       "    </tr>\n",
       "    <tr>\n",
       "      <th>Married</th>\n",
       "      <td>3</td>\n",
       "      <td>0.004886</td>\n",
       "      <td>object</td>\n",
       "      <td>611</td>\n",
       "    </tr>\n",
       "    <tr>\n",
       "      <th>Loan_ID</th>\n",
       "      <td>0</td>\n",
       "      <td>0.000000</td>\n",
       "      <td>object</td>\n",
       "      <td>614</td>\n",
       "    </tr>\n",
       "    <tr>\n",
       "      <th>Education</th>\n",
       "      <td>0</td>\n",
       "      <td>0.000000</td>\n",
       "      <td>object</td>\n",
       "      <td>614</td>\n",
       "    </tr>\n",
       "    <tr>\n",
       "      <th>ApplicantIncome</th>\n",
       "      <td>0</td>\n",
       "      <td>0.000000</td>\n",
       "      <td>int64</td>\n",
       "      <td>614</td>\n",
       "    </tr>\n",
       "    <tr>\n",
       "      <th>CoapplicantIncome</th>\n",
       "      <td>0</td>\n",
       "      <td>0.000000</td>\n",
       "      <td>float64</td>\n",
       "      <td>614</td>\n",
       "    </tr>\n",
       "    <tr>\n",
       "      <th>Property_Area</th>\n",
       "      <td>0</td>\n",
       "      <td>0.000000</td>\n",
       "      <td>object</td>\n",
       "      <td>614</td>\n",
       "    </tr>\n",
       "    <tr>\n",
       "      <th>Loan_Status</th>\n",
       "      <td>0</td>\n",
       "      <td>0.000000</td>\n",
       "      <td>object</td>\n",
       "      <td>614</td>\n",
       "    </tr>\n",
       "  </tbody>\n",
       "</table>\n",
       "</div>"
      ],
      "text/plain": [
       "                   num_missing  percent_missing    dtype  count\n",
       "Credit_History              50         0.081433  float64    564\n",
       "Self_Employed               32         0.052117   object    582\n",
       "LoanAmount                  22         0.035831  float64    592\n",
       "Dependents                  15         0.024430   object    599\n",
       "Loan_Amount_Term            14         0.022801  float64    600\n",
       "Gender                      13         0.021173   object    601\n",
       "Married                      3         0.004886   object    611\n",
       "Loan_ID                      0         0.000000   object    614\n",
       "Education                    0         0.000000   object    614\n",
       "ApplicantIncome              0         0.000000    int64    614\n",
       "CoapplicantIncome            0         0.000000  float64    614\n",
       "Property_Area                0         0.000000   object    614\n",
       "Loan_Status                  0         0.000000   object    614"
      ]
     },
     "execution_count": 3,
     "metadata": {},
     "output_type": "execute_result"
    }
   ],
   "source": [
    "def datainfo(x):\n",
    "    num_missing = x.isnull().sum().sort_values(ascending = False)\n",
    "    percent_missing = (x.isnull().sum())/(x.isnull().count()).sort_values(ascending = False)\n",
    "    dtype = x.dtypes\n",
    "    count = x.count()\n",
    "    datainfo = pd.DataFrame(columns=['num_missing','percent_missing','dtype','count'])\n",
    "    datainfo = datainfo.assign(num_missing=num_missing, percent_missing=percent_missing, count=count, dtype=dtype)\n",
    "\n",
    "    return datainfo\n",
    "datainfo(data)"
   ]
  },
  {
   "cell_type": "markdown",
   "metadata": {},
   "source": [
    "Look at some basic statistics for numerical variables."
   ]
  },
  {
   "cell_type": "code",
   "execution_count": 4,
   "metadata": {
    "jupyter": {
     "outputs_hidden": false
    }
   },
   "outputs": [
    {
     "data": {
      "text/html": [
       "<div>\n",
       "<style scoped>\n",
       "    .dataframe tbody tr th:only-of-type {\n",
       "        vertical-align: middle;\n",
       "    }\n",
       "\n",
       "    .dataframe tbody tr th {\n",
       "        vertical-align: top;\n",
       "    }\n",
       "\n",
       "    .dataframe thead th {\n",
       "        text-align: right;\n",
       "    }\n",
       "</style>\n",
       "<table border=\"1\" class=\"dataframe\">\n",
       "  <thead>\n",
       "    <tr style=\"text-align: right;\">\n",
       "      <th></th>\n",
       "      <th>ApplicantIncome</th>\n",
       "      <th>CoapplicantIncome</th>\n",
       "      <th>LoanAmount</th>\n",
       "      <th>Loan_Amount_Term</th>\n",
       "      <th>Credit_History</th>\n",
       "    </tr>\n",
       "  </thead>\n",
       "  <tbody>\n",
       "    <tr>\n",
       "      <th>count</th>\n",
       "      <td>614.000000</td>\n",
       "      <td>614.000000</td>\n",
       "      <td>592.000000</td>\n",
       "      <td>600.00000</td>\n",
       "      <td>564.000000</td>\n",
       "    </tr>\n",
       "    <tr>\n",
       "      <th>mean</th>\n",
       "      <td>5403.459283</td>\n",
       "      <td>1621.245798</td>\n",
       "      <td>146.412162</td>\n",
       "      <td>342.00000</td>\n",
       "      <td>0.842199</td>\n",
       "    </tr>\n",
       "    <tr>\n",
       "      <th>std</th>\n",
       "      <td>6109.041673</td>\n",
       "      <td>2926.248369</td>\n",
       "      <td>85.587325</td>\n",
       "      <td>65.12041</td>\n",
       "      <td>0.364878</td>\n",
       "    </tr>\n",
       "    <tr>\n",
       "      <th>min</th>\n",
       "      <td>150.000000</td>\n",
       "      <td>0.000000</td>\n",
       "      <td>9.000000</td>\n",
       "      <td>12.00000</td>\n",
       "      <td>0.000000</td>\n",
       "    </tr>\n",
       "    <tr>\n",
       "      <th>25%</th>\n",
       "      <td>2877.500000</td>\n",
       "      <td>0.000000</td>\n",
       "      <td>100.000000</td>\n",
       "      <td>360.00000</td>\n",
       "      <td>1.000000</td>\n",
       "    </tr>\n",
       "    <tr>\n",
       "      <th>50%</th>\n",
       "      <td>3812.500000</td>\n",
       "      <td>1188.500000</td>\n",
       "      <td>128.000000</td>\n",
       "      <td>360.00000</td>\n",
       "      <td>1.000000</td>\n",
       "    </tr>\n",
       "    <tr>\n",
       "      <th>75%</th>\n",
       "      <td>5795.000000</td>\n",
       "      <td>2297.250000</td>\n",
       "      <td>168.000000</td>\n",
       "      <td>360.00000</td>\n",
       "      <td>1.000000</td>\n",
       "    </tr>\n",
       "    <tr>\n",
       "      <th>max</th>\n",
       "      <td>81000.000000</td>\n",
       "      <td>41667.000000</td>\n",
       "      <td>700.000000</td>\n",
       "      <td>480.00000</td>\n",
       "      <td>1.000000</td>\n",
       "    </tr>\n",
       "  </tbody>\n",
       "</table>\n",
       "</div>"
      ],
      "text/plain": [
       "       ApplicantIncome  CoapplicantIncome  LoanAmount  Loan_Amount_Term  \\\n",
       "count       614.000000         614.000000  592.000000         600.00000   \n",
       "mean       5403.459283        1621.245798  146.412162         342.00000   \n",
       "std        6109.041673        2926.248369   85.587325          65.12041   \n",
       "min         150.000000           0.000000    9.000000          12.00000   \n",
       "25%        2877.500000           0.000000  100.000000         360.00000   \n",
       "50%        3812.500000        1188.500000  128.000000         360.00000   \n",
       "75%        5795.000000        2297.250000  168.000000         360.00000   \n",
       "max       81000.000000       41667.000000  700.000000         480.00000   \n",
       "\n",
       "       Credit_History  \n",
       "count      564.000000  \n",
       "mean         0.842199  \n",
       "std          0.364878  \n",
       "min          0.000000  \n",
       "25%          1.000000  \n",
       "50%          1.000000  \n",
       "75%          1.000000  \n",
       "max          1.000000  "
      ]
     },
     "execution_count": 4,
     "metadata": {},
     "output_type": "execute_result"
    }
   ],
   "source": [
    "df.describe()"
   ]
  },
  {
   "cell_type": "markdown",
   "metadata": {},
   "source": [
    "1. How many applicants have a `Credit_History`? (`Credit_History` has value 1 for those who have a credit history and 0 otherwise)\n",
    "2. Is the `ApplicantIncome` distribution in line with your expectation? Similarly, what about `CoapplicantIncome`?\n",
    "3. Tip: Can you see a possible skewness in the data by comparing the mean to the median, i.e. the 50% figure of a feature.\n",
    "\n"
   ]
  },
  {
   "cell_type": "code",
   "execution_count": 5,
   "metadata": {
    "jupyter": {
     "outputs_hidden": false
    }
   },
   "outputs": [
    {
     "data": {
      "text/plain": [
       "475"
      ]
     },
     "execution_count": 5,
     "metadata": {},
     "output_type": "execute_result"
    }
   ],
   "source": [
    "#Credit_History\n",
    "credit_history = df[df['Credit_History']==1].Credit_History.count()\n",
    "credit_history"
   ]
  },
  {
   "cell_type": "code",
   "execution_count": 6,
   "metadata": {},
   "outputs": [
    {
     "data": {
      "text/plain": [
       "['Gender',\n",
       " 'Married',\n",
       " 'Dependents',\n",
       " 'Education',\n",
       " 'Self_Employed',\n",
       " 'Property_Area',\n",
       " 'Loan_Status']"
      ]
     },
     "execution_count": 6,
     "metadata": {},
     "output_type": "execute_result"
    }
   ],
   "source": [
    "numeric = list(df.dtypes[df.dtypes != 'object'].index)\n",
    "categorical = list(df.dtypes[df.dtypes == 'object'].index)\n",
    "categorical.remove(categorical[0])\n",
    "categorical"
   ]
  },
  {
   "cell_type": "code",
   "execution_count": 7,
   "metadata": {
    "jupyter": {
     "outputs_hidden": false
    }
   },
   "outputs": [
    {
     "data": {
      "text/plain": [
       "(0.0, 40000.0)"
      ]
     },
     "execution_count": 7,
     "metadata": {},
     "output_type": "execute_result"
    },
    {
     "data": {
      "image/png": "[encoded data removed]",
      "text/plain": [
       "<Figure size 432x288 with 1 Axes>"
      ]
     },
     "metadata": {
      "needs_background": "light"
     },
     "output_type": "display_data"
    }
   ],
   "source": [
    "#Applicant income distribution\n",
    "fig, ax = plt.subplots()\n",
    "\n",
    "sns.histplot(df['ApplicantIncome'],ax=ax)\n",
    "ax.set_xlabel(\"ApplicantIncome\", size=14)\n",
    "ax.set_ylabel(\"Count\", size=14)\n",
    "ax.axvline(x=df.ApplicantIncome.median(),color='blue',ls='--',lw=2.5,label = 'median')\n",
    "ax.axvline(x=df.ApplicantIncome.mean(),color='red',ls='--',lw=2.5, label = 'mean')\n",
    "ax.set_xlim(0,40000)"
   ]
  },
  {
   "cell_type": "code",
   "execution_count": 8,
   "metadata": {},
   "outputs": [
    {
     "data": {
      "text/plain": [
       "(0.0, 15000.0)"
      ]
     },
     "execution_count": 8,
     "metadata": {},
     "output_type": "execute_result"
    },
    {
     "data": {
      "image/png": "[encoded data removed]",
      "text/plain": [
       "<Figure size 432x288 with 1 Axes>"
      ]
     },
     "metadata": {
      "needs_background": "light"
     },
     "output_type": "display_data"
    }
   ],
   "source": [
    "#CoApplicant income distribution\n",
    "fig, ax = plt.subplots()\n",
    "\n",
    "sns.histplot(df['CoapplicantIncome'],ax=ax)\n",
    "ax.set_xlabel(\"CoapplicantIncome\", size=14)\n",
    "ax.set_ylabel(\"Count\", size=14)\n",
    "ax.axvline(x=df.CoapplicantIncome.median(),color='blue',ls='--',lw=2.5,label = 'median')\n",
    "ax.axvline(x=df.CoapplicantIncome.mean(),color='red',ls='--',lw=2.5, label = 'mean')\n",
    "ax.set_xlim(0,15000)"
   ]
  },
  {
   "cell_type": "markdown",
   "metadata": {},
   "source": [
    "Let's discuss nominal (categorical) variable. Look at the number of unique values in each of them."
   ]
  },
  {
   "cell_type": "code",
   "execution_count": 9,
   "metadata": {},
   "outputs": [
    {
     "name": "stdout",
     "output_type": "stream",
     "text": [
      "Gender    ['Male' 'Female' nan] \n",
      " Male      489\n",
      "Female    112\n",
      "Name: Gender, dtype: int64 \n",
      "\n",
      "Married    ['No' 'Yes' nan] \n",
      " Yes    398\n",
      "No     213\n",
      "Name: Married, dtype: int64 \n",
      "\n",
      "Dependents    ['0' '1' '2' '3+' nan] \n",
      " 0     345\n",
      "1     102\n",
      "2     101\n",
      "3+     51\n",
      "Name: Dependents, dtype: int64 \n",
      "\n",
      "Education    ['Graduate' 'Not Graduate'] \n",
      " Graduate        480\n",
      "Not Graduate    134\n",
      "Name: Education, dtype: int64 \n",
      "\n",
      "Self_Employed    ['No' 'Yes' nan] \n",
      " No     500\n",
      "Yes     82\n",
      "Name: Self_Employed, dtype: int64 \n",
      "\n",
      "Property_Area    ['Urban' 'Rural' 'Semiurban'] \n",
      " Semiurban    233\n",
      "Urban        202\n",
      "Rural        179\n",
      "Name: Property_Area, dtype: int64 \n",
      "\n",
      "Loan_Status    ['Y' 'N'] \n",
      " Y    422\n",
      "N    192\n",
      "Name: Loan_Status, dtype: int64 \n",
      "\n"
     ]
    }
   ],
   "source": [
    "for i in categorical:\n",
    "    print (i,\"  \",df[i].unique(),\"\\n\",df[i].value_counts(),\"\\n\")"
   ]
  },
  {
   "cell_type": "markdown",
   "metadata": {},
   "source": [
    "Explore further using the frequency of different categories in each nominal variable. Exclude the ID obvious reasons."
   ]
  },
  {
   "cell_type": "code",
   "execution_count": 10,
   "metadata": {},
   "outputs": [
    {
     "data": {
      "image/png": "[encoded data removed]",
      "text/plain": [
       "<Figure size 432x288 with 1 Axes>"
      ]
     },
     "metadata": {
      "needs_background": "light"
     },
     "output_type": "display_data"
    },
    {
     "data": {
      "image/png": "[encoded data removed]",
      "text/plain": [
       "<Figure size 432x288 with 1 Axes>"
      ]
     },
     "metadata": {
      "needs_background": "light"
     },
     "output_type": "display_data"
    },
    {
     "data": {
      "image/png": "[encoded data removed]",
      "text/plain": [
       "<Figure size 432x288 with 1 Axes>"
      ]
     },
     "metadata": {
      "needs_background": "light"
     },
     "output_type": "display_data"
    },
    {
     "data": {
      "image/png": "[encoded data removed]",
      "text/plain": [
       "<Figure size 432x288 with 1 Axes>"
      ]
     },
     "metadata": {
      "needs_background": "light"
     },
     "output_type": "display_data"
    },
    {
     "data": {
      "image/png": "[encoded data removed]",
      "text/plain": [
       "<Figure size 432x288 with 1 Axes>"
      ]
     },
     "metadata": {
      "needs_background": "light"
     },
     "output_type": "display_data"
    },
    {
     "data": {
      "image/png": "[encoded data removed]",
      "text/plain": [
       "<Figure size 432x288 with 1 Axes>"
      ]
     },
     "metadata": {
      "needs_background": "light"
     },
     "output_type": "display_data"
    },
    {
     "data": {
      "image/png": "[encoded data removed]",
      "text/plain": [
       "<Figure size 432x288 with 1 Axes>"
      ]
     },
     "metadata": {
      "needs_background": "light"
     },
     "output_type": "display_data"
    }
   ],
   "source": [
    "for i in categorical:\n",
    "    sns.countplot(x = df[i])\n",
    "    plt.show()"
   ]
  },
  {
   "cell_type": "markdown",
   "metadata": {},
   "source": [
    "### Distribution analysis\n",
    "\n",
    "Study distribution of various variables. Plot the histogram of ApplicantIncome, try different number of bins.\n",
    "\n"
   ]
  },
  {
   "cell_type": "code",
   "execution_count": 11,
   "metadata": {
    "jupyter": {
     "outputs_hidden": false
    }
   },
   "outputs": [
    {
     "data": {
      "text/plain": [
       "<AxesSubplot:>"
      ]
     },
     "execution_count": 11,
     "metadata": {},
     "output_type": "execute_result"
    },
    {
     "data": {
      "image/png": "[encoded data removed]",
      "text/plain": [
       "<Figure size 432x288 with 1 Axes>"
      ]
     },
     "metadata": {
      "needs_background": "light"
     },
     "output_type": "display_data"
    }
   ],
   "source": [
    "df.ApplicantIncome.hist(bins=60)"
   ]
  },
  {
   "cell_type": "markdown",
   "metadata": {},
   "source": [
    "\n",
    "Look at box plots to understand the distributions. "
   ]
  },
  {
   "cell_type": "code",
   "execution_count": 12,
   "metadata": {
    "jupyter": {
     "outputs_hidden": false
    }
   },
   "outputs": [
    {
     "data": {
      "text/plain": [
       "<AxesSubplot:xlabel='ApplicantIncome'>"
      ]
     },
     "execution_count": 12,
     "metadata": {},
     "output_type": "execute_result"
    },
    {
     "data": {
      "image/png": "[encoded data removed]",
      "text/plain": [
       "<Figure size 432x288 with 1 Axes>"
      ]
     },
     "metadata": {
      "needs_background": "light"
     },
     "output_type": "display_data"
    }
   ],
   "source": [
    "sns.boxplot(x = df['ApplicantIncome'])"
   ]
  },
  {
   "cell_type": "markdown",
   "metadata": {},
   "source": [
    "Look at the distribution of income segregated  by `Education`"
   ]
  },
  {
   "cell_type": "code",
   "execution_count": 13,
   "metadata": {
    "jupyter": {
     "outputs_hidden": false
    }
   },
   "outputs": [
    {
     "data": {
      "text/plain": [
       "<AxesSubplot:xlabel='ApplicantIncome', ylabel='Education'>"
      ]
     },
     "execution_count": 13,
     "metadata": {},
     "output_type": "execute_result"
    },
    {
     "data": {
      "image/png": "[encoded data removed]",
      "text/plain": [
       "<Figure size 432x288 with 1 Axes>"
      ]
     },
     "metadata": {
      "needs_background": "light"
     },
     "output_type": "display_data"
    }
   ],
   "source": [
    "sns.boxplot(y = df['Education'], x = df['ApplicantIncome'])"
   ]
  },
  {
   "cell_type": "markdown",
   "metadata": {},
   "source": [
    "Look at the histogram and boxplot of LoanAmount"
   ]
  },
  {
   "cell_type": "code",
   "execution_count": 14,
   "metadata": {
    "jupyter": {
     "outputs_hidden": false
    }
   },
   "outputs": [
    {
     "data": {
      "text/plain": [
       "Text(0, 0.5, 'Count')"
      ]
     },
     "execution_count": 14,
     "metadata": {},
     "output_type": "execute_result"
    },
    {
     "data": {
      "image/png": "[encoded data removed]",
      "text/plain": [
       "<Figure size 432x288 with 1 Axes>"
      ]
     },
     "metadata": {
      "needs_background": "light"
     },
     "output_type": "display_data"
    }
   ],
   "source": [
    "fig, ax  = plt.subplots()\n",
    "\n",
    "sns.histplot(x = df['LoanAmount'], hue=df['Education'])\n",
    "ax.set_xlabel(\"Loan Amount\")\n",
    "ax.set_ylabel(\"Count\")"
   ]
  },
  {
   "cell_type": "code",
   "execution_count": 15,
   "metadata": {},
   "outputs": [
    {
     "data": {
      "text/plain": [
       "Text(0, 0.5, 'Count')"
      ]
     },
     "execution_count": 15,
     "metadata": {},
     "output_type": "execute_result"
    },
    {
     "data": {
      "image/png": "[encoded data removed]",
      "text/plain": [
       "<Figure size 432x288 with 1 Axes>"
      ]
     },
     "metadata": {
      "needs_background": "light"
     },
     "output_type": "display_data"
    }
   ],
   "source": [
    "fig, ax  = plt.subplots()\n",
    "\n",
    "sns.histplot(x = df['LoanAmount'], hue=df['Gender'])\n",
    "ax.set_xlabel(\"Loan Amount\")\n",
    "ax.set_ylabel(\"Count\")"
   ]
  },
  {
   "cell_type": "code",
   "execution_count": 16,
   "metadata": {},
   "outputs": [
    {
     "data": {
      "text/plain": [
       "<AxesSubplot:xlabel='LoanAmount'>"
      ]
     },
     "execution_count": 16,
     "metadata": {},
     "output_type": "execute_result"
    },
    {
     "data": {
      "image/png": "[encoded data removed]",
      "text/plain": [
       "<Figure size 432x288 with 1 Axes>"
      ]
     },
     "metadata": {
      "needs_background": "light"
     },
     "output_type": "display_data"
    }
   ],
   "source": [
    "sns.boxplot(x = df['LoanAmount'])"
   ]
  },
  {
   "cell_type": "markdown",
   "metadata": {},
   "source": [
    "There might be some extreme values. Both `ApplicantIncome` and `LoanAmount` require some amount of data munging. `LoanAmount` has missing and well as extreme values values, while `ApplicantIncome` has a few extreme values, which demand deeper understanding. "
   ]
  },
  {
   "cell_type": "code",
   "execution_count": 17,
   "metadata": {},
   "outputs": [
    {
     "data": {
      "text/plain": [
       "<AxesSubplot:xlabel='LoanAmount', ylabel='ApplicantIncome'>"
      ]
     },
     "execution_count": 17,
     "metadata": {},
     "output_type": "execute_result"
    },
    {
     "data": {
      "image/png": "[encoded data removed]",
      "text/plain": [
       "<Figure size 432x288 with 1 Axes>"
      ]
     },
     "metadata": {
      "needs_background": "light"
     },
     "output_type": "display_data"
    }
   ],
   "source": [
    "sns.scatterplot(x='LoanAmount',y='ApplicantIncome',hue='Loan_Status',data=df)"
   ]
  },
  {
   "cell_type": "code",
   "execution_count": 18,
   "metadata": {},
   "outputs": [
    {
     "data": {
      "text/plain": [
       "<AxesSubplot:xlabel='LoanAmount', ylabel='ApplicantIncome'>"
      ]
     },
     "execution_count": 18,
     "metadata": {},
     "output_type": "execute_result"
    },
    {
     "data": {
      "image/png": "[encoded data removed]",
      "text/plain": [
       "<Figure size 432x288 with 1 Axes>"
      ]
     },
     "metadata": {
      "needs_background": "light"
     },
     "output_type": "display_data"
    }
   ],
   "source": [
    "sns.scatterplot(x='LoanAmount',y='ApplicantIncome',hue='Married',data=df)"
   ]
  },
  {
   "cell_type": "code",
   "execution_count": 19,
   "metadata": {},
   "outputs": [
    {
     "data": {
      "text/plain": [
       "<AxesSubplot:xlabel='Education', ylabel='ApplicantIncome'>"
      ]
     },
     "execution_count": 19,
     "metadata": {},
     "output_type": "execute_result"
    },
    {
     "data": {
      "image/png": "[encoded data removed]",
      "text/plain": [
       "<Figure size 432x288 with 1 Axes>"
      ]
     },
     "metadata": {
      "needs_background": "light"
     },
     "output_type": "display_data"
    }
   ],
   "source": [
    "sns.boxplot(x='Education',y='ApplicantIncome',hue='Credit_History',data=df)"
   ]
  },
  {
   "cell_type": "markdown",
   "metadata": {},
   "source": [
    "### Categorical variable analysis\n",
    "\n",
    "Try to understand categorical variables in more details using `pandas.DataFrame.pivot_table` and some visualizations."
   ]
  },
  {
   "cell_type": "code",
   "execution_count": 20,
   "metadata": {
    "jupyter": {
     "outputs_hidden": false
    }
   },
   "outputs": [
    {
     "data": {
      "text/html": [
       "<div>\n",
       "<style scoped>\n",
       "    .dataframe tbody tr th:only-of-type {\n",
       "        vertical-align: middle;\n",
       "    }\n",
       "\n",
       "    .dataframe tbody tr th {\n",
       "        vertical-align: top;\n",
       "    }\n",
       "\n",
       "    .dataframe thead th {\n",
       "        text-align: right;\n",
       "    }\n",
       "</style>\n",
       "<table border=\"1\" class=\"dataframe\">\n",
       "  <thead>\n",
       "    <tr style=\"text-align: right;\">\n",
       "      <th></th>\n",
       "      <th></th>\n",
       "      <th></th>\n",
       "      <th>Credit_History</th>\n",
       "      <th>0.0</th>\n",
       "      <th>1.0</th>\n",
       "    </tr>\n",
       "    <tr>\n",
       "      <th>Loan_Status</th>\n",
       "      <th>Education</th>\n",
       "      <th>Self_Employed</th>\n",
       "      <th>Property_Area</th>\n",
       "      <th></th>\n",
       "      <th></th>\n",
       "    </tr>\n",
       "  </thead>\n",
       "  <tbody>\n",
       "    <tr>\n",
       "      <th rowspan=\"12\" valign=\"top\">N</th>\n",
       "      <th rowspan=\"6\" valign=\"top\">Graduate</th>\n",
       "      <th rowspan=\"3\" valign=\"top\">No</th>\n",
       "      <th>Rural</th>\n",
       "      <td>148.076923</td>\n",
       "      <td>214.200000</td>\n",
       "    </tr>\n",
       "    <tr>\n",
       "      <th>Semiurban</th>\n",
       "      <td>148.722222</td>\n",
       "      <td>177.562500</td>\n",
       "    </tr>\n",
       "    <tr>\n",
       "      <th>Urban</th>\n",
       "      <td>129.857143</td>\n",
       "      <td>137.782609</td>\n",
       "    </tr>\n",
       "    <tr>\n",
       "      <th rowspan=\"3\" valign=\"top\">Yes</th>\n",
       "      <th>Rural</th>\n",
       "      <td>182.333333</td>\n",
       "      <td>151.666667</td>\n",
       "    </tr>\n",
       "    <tr>\n",
       "      <th>Semiurban</th>\n",
       "      <td>119.500000</td>\n",
       "      <td>152.000000</td>\n",
       "    </tr>\n",
       "    <tr>\n",
       "      <th>Urban</th>\n",
       "      <td>206.250000</td>\n",
       "      <td>138.000000</td>\n",
       "    </tr>\n",
       "    <tr>\n",
       "      <th rowspan=\"6\" valign=\"top\">Not Graduate</th>\n",
       "      <th rowspan=\"3\" valign=\"top\">No</th>\n",
       "      <th>Rural</th>\n",
       "      <td>141.000000</td>\n",
       "      <td>106.272727</td>\n",
       "    </tr>\n",
       "    <tr>\n",
       "      <th>Semiurban</th>\n",
       "      <td>142.600000</td>\n",
       "      <td>133.500000</td>\n",
       "    </tr>\n",
       "    <tr>\n",
       "      <th>Urban</th>\n",
       "      <td>100.111111</td>\n",
       "      <td>111.666667</td>\n",
       "    </tr>\n",
       "    <tr>\n",
       "      <th rowspan=\"3\" valign=\"top\">Yes</th>\n",
       "      <th>Rural</th>\n",
       "      <td>165.000000</td>\n",
       "      <td>187.000000</td>\n",
       "    </tr>\n",
       "    <tr>\n",
       "      <th>Semiurban</th>\n",
       "      <td>NaN</td>\n",
       "      <td>74.500000</td>\n",
       "    </tr>\n",
       "    <tr>\n",
       "      <th>Urban</th>\n",
       "      <td>158.000000</td>\n",
       "      <td>138.000000</td>\n",
       "    </tr>\n",
       "    <tr>\n",
       "      <th rowspan=\"12\" valign=\"top\">Y</th>\n",
       "      <th rowspan=\"6\" valign=\"top\">Graduate</th>\n",
       "      <th rowspan=\"3\" valign=\"top\">No</th>\n",
       "      <th>Rural</th>\n",
       "      <td>110.000000</td>\n",
       "      <td>150.578947</td>\n",
       "    </tr>\n",
       "    <tr>\n",
       "      <th>Semiurban</th>\n",
       "      <td>301.000000</td>\n",
       "      <td>142.056604</td>\n",
       "    </tr>\n",
       "    <tr>\n",
       "      <th>Urban</th>\n",
       "      <td>160.000000</td>\n",
       "      <td>135.607595</td>\n",
       "    </tr>\n",
       "    <tr>\n",
       "      <th rowspan=\"3\" valign=\"top\">Yes</th>\n",
       "      <th>Rural</th>\n",
       "      <td>NaN</td>\n",
       "      <td>212.692308</td>\n",
       "    </tr>\n",
       "    <tr>\n",
       "      <th>Semiurban</th>\n",
       "      <td>NaN</td>\n",
       "      <td>168.000000</td>\n",
       "    </tr>\n",
       "    <tr>\n",
       "      <th>Urban</th>\n",
       "      <td>NaN</td>\n",
       "      <td>177.375000</td>\n",
       "    </tr>\n",
       "    <tr>\n",
       "      <th rowspan=\"6\" valign=\"top\">Not Graduate</th>\n",
       "      <th rowspan=\"3\" valign=\"top\">No</th>\n",
       "      <th>Rural</th>\n",
       "      <td>NaN</td>\n",
       "      <td>112.933333</td>\n",
       "    </tr>\n",
       "    <tr>\n",
       "      <th>Semiurban</th>\n",
       "      <td>161.000000</td>\n",
       "      <td>107.400000</td>\n",
       "    </tr>\n",
       "    <tr>\n",
       "      <th>Urban</th>\n",
       "      <td>NaN</td>\n",
       "      <td>118.200000</td>\n",
       "    </tr>\n",
       "    <tr>\n",
       "      <th rowspan=\"3\" valign=\"top\">Yes</th>\n",
       "      <th>Rural</th>\n",
       "      <td>NaN</td>\n",
       "      <td>124.000000</td>\n",
       "    </tr>\n",
       "    <tr>\n",
       "      <th>Semiurban</th>\n",
       "      <td>NaN</td>\n",
       "      <td>151.333333</td>\n",
       "    </tr>\n",
       "    <tr>\n",
       "      <th>Urban</th>\n",
       "      <td>NaN</td>\n",
       "      <td>115.333333</td>\n",
       "    </tr>\n",
       "  </tbody>\n",
       "</table>\n",
       "</div>"
      ],
      "text/plain": [
       "Credit_History                                               0.0         1.0\n",
       "Loan_Status Education    Self_Employed Property_Area                        \n",
       "N           Graduate     No            Rural          148.076923  214.200000\n",
       "                                       Semiurban      148.722222  177.562500\n",
       "                                       Urban          129.857143  137.782609\n",
       "                         Yes           Rural          182.333333  151.666667\n",
       "                                       Semiurban      119.500000  152.000000\n",
       "                                       Urban          206.250000  138.000000\n",
       "            Not Graduate No            Rural          141.000000  106.272727\n",
       "                                       Semiurban      142.600000  133.500000\n",
       "                                       Urban          100.111111  111.666667\n",
       "                         Yes           Rural          165.000000  187.000000\n",
       "                                       Semiurban             NaN   74.500000\n",
       "                                       Urban          158.000000  138.000000\n",
       "Y           Graduate     No            Rural          110.000000  150.578947\n",
       "                                       Semiurban      301.000000  142.056604\n",
       "                                       Urban          160.000000  135.607595\n",
       "                         Yes           Rural                 NaN  212.692308\n",
       "                                       Semiurban             NaN  168.000000\n",
       "                                       Urban                 NaN  177.375000\n",
       "            Not Graduate No            Rural                 NaN  112.933333\n",
       "                                       Semiurban      161.000000  107.400000\n",
       "                                       Urban                 NaN  118.200000\n",
       "                         Yes           Rural                 NaN  124.000000\n",
       "                                       Semiurban             NaN  151.333333\n",
       "                                       Urban                 NaN  115.333333"
      ]
     },
     "execution_count": 20,
     "metadata": {},
     "output_type": "execute_result"
    }
   ],
   "source": [
    "pd.pivot_table(data = df,values='LoanAmount',index = ['Loan_Status','Education','Self_Employed','Property_Area'],columns = ['Credit_History'])"
   ]
  },
  {
   "cell_type": "code",
   "execution_count": 21,
   "metadata": {
    "jupyter": {
     "outputs_hidden": false
    }
   },
   "outputs": [
    {
     "data": {
      "text/plain": [
       "<seaborn.axisgrid.PairGrid at 0x19abe5e48e0>"
      ]
     },
     "execution_count": 21,
     "metadata": {},
     "output_type": "execute_result"
    },
    {
     "data": {
      "image/png": "[encoded data removed]",
      "text/plain": [
       "<Figure size 968.625x900 with 30 Axes>"
      ]
     },
     "metadata": {
      "needs_background": "light"
     },
     "output_type": "display_data"
    }
   ],
   "source": [
    "sns.pairplot(df,hue='Loan_Status')"
   ]
  },
  {
   "cell_type": "code",
   "execution_count": null,
   "metadata": {},
   "outputs": [],
   "source": []
  },
  {
   "cell_type": "code",
   "execution_count": null,
   "metadata": {},
   "outputs": [],
   "source": []
  },
  {
   "cell_type": "markdown",
   "metadata": {},
   "source": [
    "## 3. Data Cleaning\n",
    "\n",
    "This step typically involves imputing missing values and treating outliers. "
   ]
  },
  {
   "cell_type": "markdown",
   "metadata": {},
   "source": [
    "### Imputing Missing Values\n",
    "\n",
    "Missing values may not always be NaNs. For instance, the `Loan_Amount_Term` might be 0, which does not make sense.\n",
    "\n"
   ]
  },
  {
   "cell_type": "markdown",
   "metadata": {},
   "source": [
    "Impute missing values for all columns. Use the values which you find most meaningful (mean, mode, median, zero.... maybe different mean values for different groups)"
   ]
  },
  {
   "cell_type": "code",
   "execution_count": 22,
   "metadata": {},
   "outputs": [],
   "source": [
    "# Use SimpleImputer\n",
    "from sklearn.impute import SimpleImputer\n",
    "import numpy as np"
   ]
  },
  {
   "cell_type": "code",
   "execution_count": 23,
   "metadata": {
    "jupyter": {
     "outputs_hidden": false
    }
   },
   "outputs": [
    {
     "data": {
      "text/html": [
       "<div>\n",
       "<style scoped>\n",
       "    .dataframe tbody tr th:only-of-type {\n",
       "        vertical-align: middle;\n",
       "    }\n",
       "\n",
       "    .dataframe tbody tr th {\n",
       "        vertical-align: top;\n",
       "    }\n",
       "\n",
       "    .dataframe thead th {\n",
       "        text-align: right;\n",
       "    }\n",
       "</style>\n",
       "<table border=\"1\" class=\"dataframe\">\n",
       "  <thead>\n",
       "    <tr style=\"text-align: right;\">\n",
       "      <th></th>\n",
       "      <th>num_missing</th>\n",
       "      <th>percent_missing</th>\n",
       "      <th>dtype</th>\n",
       "      <th>count</th>\n",
       "    </tr>\n",
       "  </thead>\n",
       "  <tbody>\n",
       "    <tr>\n",
       "      <th>Credit_History</th>\n",
       "      <td>50</td>\n",
       "      <td>0.081433</td>\n",
       "      <td>float64</td>\n",
       "      <td>564</td>\n",
       "    </tr>\n",
       "    <tr>\n",
       "      <th>Self_Employed</th>\n",
       "      <td>32</td>\n",
       "      <td>0.052117</td>\n",
       "      <td>object</td>\n",
       "      <td>582</td>\n",
       "    </tr>\n",
       "    <tr>\n",
       "      <th>LoanAmount</th>\n",
       "      <td>22</td>\n",
       "      <td>0.035831</td>\n",
       "      <td>float64</td>\n",
       "      <td>592</td>\n",
       "    </tr>\n",
       "    <tr>\n",
       "      <th>Dependents</th>\n",
       "      <td>15</td>\n",
       "      <td>0.024430</td>\n",
       "      <td>object</td>\n",
       "      <td>599</td>\n",
       "    </tr>\n",
       "    <tr>\n",
       "      <th>Loan_Amount_Term</th>\n",
       "      <td>14</td>\n",
       "      <td>0.022801</td>\n",
       "      <td>float64</td>\n",
       "      <td>600</td>\n",
       "    </tr>\n",
       "    <tr>\n",
       "      <th>Gender</th>\n",
       "      <td>13</td>\n",
       "      <td>0.021173</td>\n",
       "      <td>object</td>\n",
       "      <td>601</td>\n",
       "    </tr>\n",
       "    <tr>\n",
       "      <th>Married</th>\n",
       "      <td>3</td>\n",
       "      <td>0.004886</td>\n",
       "      <td>object</td>\n",
       "      <td>611</td>\n",
       "    </tr>\n",
       "    <tr>\n",
       "      <th>Loan_ID</th>\n",
       "      <td>0</td>\n",
       "      <td>0.000000</td>\n",
       "      <td>object</td>\n",
       "      <td>614</td>\n",
       "    </tr>\n",
       "    <tr>\n",
       "      <th>Education</th>\n",
       "      <td>0</td>\n",
       "      <td>0.000000</td>\n",
       "      <td>object</td>\n",
       "      <td>614</td>\n",
       "    </tr>\n",
       "    <tr>\n",
       "      <th>ApplicantIncome</th>\n",
       "      <td>0</td>\n",
       "      <td>0.000000</td>\n",
       "      <td>int64</td>\n",
       "      <td>614</td>\n",
       "    </tr>\n",
       "    <tr>\n",
       "      <th>CoapplicantIncome</th>\n",
       "      <td>0</td>\n",
       "      <td>0.000000</td>\n",
       "      <td>float64</td>\n",
       "      <td>614</td>\n",
       "    </tr>\n",
       "    <tr>\n",
       "      <th>Property_Area</th>\n",
       "      <td>0</td>\n",
       "      <td>0.000000</td>\n",
       "      <td>object</td>\n",
       "      <td>614</td>\n",
       "    </tr>\n",
       "    <tr>\n",
       "      <th>Loan_Status</th>\n",
       "      <td>0</td>\n",
       "      <td>0.000000</td>\n",
       "      <td>object</td>\n",
       "      <td>614</td>\n",
       "    </tr>\n",
       "  </tbody>\n",
       "</table>\n",
       "</div>"
      ],
      "text/plain": [
       "                   num_missing  percent_missing    dtype  count\n",
       "Credit_History              50         0.081433  float64    564\n",
       "Self_Employed               32         0.052117   object    582\n",
       "LoanAmount                  22         0.035831  float64    592\n",
       "Dependents                  15         0.024430   object    599\n",
       "Loan_Amount_Term            14         0.022801  float64    600\n",
       "Gender                      13         0.021173   object    601\n",
       "Married                      3         0.004886   object    611\n",
       "Loan_ID                      0         0.000000   object    614\n",
       "Education                    0         0.000000   object    614\n",
       "ApplicantIncome              0         0.000000    int64    614\n",
       "CoapplicantIncome            0         0.000000  float64    614\n",
       "Property_Area                0         0.000000   object    614\n",
       "Loan_Status                  0         0.000000   object    614"
      ]
     },
     "execution_count": 23,
     "metadata": {},
     "output_type": "execute_result"
    }
   ],
   "source": [
    "datainfo(data)"
   ]
  },
  {
   "cell_type": "code",
   "execution_count": 24,
   "metadata": {},
   "outputs": [],
   "source": [
    "#filling nan values\n",
    "import random\n",
    "\n",
    "gender = ['Male','Female']\n",
    "df['Gender']=df['Gender'].fillna(random.choice(gender))\n",
    "\n",
    "df['Married']=df['Married'].fillna('No') \n",
    "\n",
    "df['Dependents']=df['Dependents'].fillna('0') \n",
    "\n",
    "df['Self_Employed']=df['Self_Employed'].fillna('No')\n",
    "\n",
    "df['LoanAmount']=df['LoanAmount'].fillna(df['LoanAmount'].mean())\n",
    "\n",
    "df['Loan_Amount_Term']=df['Loan_Amount_Term'].fillna(360)\n",
    "\n",
    "df['Credit_History']=df['Credit_History'].fillna(1)"
   ]
  },
  {
   "cell_type": "code",
   "execution_count": 25,
   "metadata": {},
   "outputs": [
    {
     "data": {
      "text/html": [
       "<div>\n",
       "<style scoped>\n",
       "    .dataframe tbody tr th:only-of-type {\n",
       "        vertical-align: middle;\n",
       "    }\n",
       "\n",
       "    .dataframe tbody tr th {\n",
       "        vertical-align: top;\n",
       "    }\n",
       "\n",
       "    .dataframe thead th {\n",
       "        text-align: right;\n",
       "    }\n",
       "</style>\n",
       "<table border=\"1\" class=\"dataframe\">\n",
       "  <thead>\n",
       "    <tr style=\"text-align: right;\">\n",
       "      <th></th>\n",
       "      <th>num_missing</th>\n",
       "      <th>percent_missing</th>\n",
       "      <th>dtype</th>\n",
       "      <th>count</th>\n",
       "    </tr>\n",
       "  </thead>\n",
       "  <tbody>\n",
       "    <tr>\n",
       "      <th>Loan_ID</th>\n",
       "      <td>0</td>\n",
       "      <td>0.0</td>\n",
       "      <td>object</td>\n",
       "      <td>614</td>\n",
       "    </tr>\n",
       "    <tr>\n",
       "      <th>Gender</th>\n",
       "      <td>0</td>\n",
       "      <td>0.0</td>\n",
       "      <td>object</td>\n",
       "      <td>614</td>\n",
       "    </tr>\n",
       "    <tr>\n",
       "      <th>Married</th>\n",
       "      <td>0</td>\n",
       "      <td>0.0</td>\n",
       "      <td>object</td>\n",
       "      <td>614</td>\n",
       "    </tr>\n",
       "    <tr>\n",
       "      <th>Dependents</th>\n",
       "      <td>0</td>\n",
       "      <td>0.0</td>\n",
       "      <td>object</td>\n",
       "      <td>614</td>\n",
       "    </tr>\n",
       "    <tr>\n",
       "      <th>Education</th>\n",
       "      <td>0</td>\n",
       "      <td>0.0</td>\n",
       "      <td>object</td>\n",
       "      <td>614</td>\n",
       "    </tr>\n",
       "    <tr>\n",
       "      <th>Self_Employed</th>\n",
       "      <td>0</td>\n",
       "      <td>0.0</td>\n",
       "      <td>object</td>\n",
       "      <td>614</td>\n",
       "    </tr>\n",
       "    <tr>\n",
       "      <th>ApplicantIncome</th>\n",
       "      <td>0</td>\n",
       "      <td>0.0</td>\n",
       "      <td>int64</td>\n",
       "      <td>614</td>\n",
       "    </tr>\n",
       "    <tr>\n",
       "      <th>CoapplicantIncome</th>\n",
       "      <td>0</td>\n",
       "      <td>0.0</td>\n",
       "      <td>float64</td>\n",
       "      <td>614</td>\n",
       "    </tr>\n",
       "    <tr>\n",
       "      <th>LoanAmount</th>\n",
       "      <td>0</td>\n",
       "      <td>0.0</td>\n",
       "      <td>float64</td>\n",
       "      <td>614</td>\n",
       "    </tr>\n",
       "    <tr>\n",
       "      <th>Loan_Amount_Term</th>\n",
       "      <td>0</td>\n",
       "      <td>0.0</td>\n",
       "      <td>float64</td>\n",
       "      <td>614</td>\n",
       "    </tr>\n",
       "    <tr>\n",
       "      <th>Credit_History</th>\n",
       "      <td>0</td>\n",
       "      <td>0.0</td>\n",
       "      <td>float64</td>\n",
       "      <td>614</td>\n",
       "    </tr>\n",
       "    <tr>\n",
       "      <th>Property_Area</th>\n",
       "      <td>0</td>\n",
       "      <td>0.0</td>\n",
       "      <td>object</td>\n",
       "      <td>614</td>\n",
       "    </tr>\n",
       "    <tr>\n",
       "      <th>Loan_Status</th>\n",
       "      <td>0</td>\n",
       "      <td>0.0</td>\n",
       "      <td>object</td>\n",
       "      <td>614</td>\n",
       "    </tr>\n",
       "  </tbody>\n",
       "</table>\n",
       "</div>"
      ],
      "text/plain": [
       "                   num_missing  percent_missing    dtype  count\n",
       "Loan_ID                      0              0.0   object    614\n",
       "Gender                       0              0.0   object    614\n",
       "Married                      0              0.0   object    614\n",
       "Dependents                   0              0.0   object    614\n",
       "Education                    0              0.0   object    614\n",
       "Self_Employed                0              0.0   object    614\n",
       "ApplicantIncome              0              0.0    int64    614\n",
       "CoapplicantIncome            0              0.0  float64    614\n",
       "LoanAmount                   0              0.0  float64    614\n",
       "Loan_Amount_Term             0              0.0  float64    614\n",
       "Credit_History               0              0.0  float64    614\n",
       "Property_Area                0              0.0   object    614\n",
       "Loan_Status                  0              0.0   object    614"
      ]
     },
     "execution_count": 25,
     "metadata": {},
     "output_type": "execute_result"
    }
   ],
   "source": [
    "datainfo(df)"
   ]
  },
  {
   "cell_type": "markdown",
   "metadata": {},
   "source": [
    "### Extreme values\n",
    "Try a log transformation to get rid of the extreme values in `LoanAmount`. Plot the histogram before and after the transformation"
   ]
  },
  {
   "cell_type": "code",
   "execution_count": 26,
   "metadata": {
    "jupyter": {
     "outputs_hidden": false
    }
   },
   "outputs": [
    {
     "data": {
      "image/png": "[encoded data removed]",
      "text/plain": [
       "<Figure size 432x288 with 1 Axes>"
      ]
     },
     "metadata": {
      "needs_background": "light"
     },
     "output_type": "display_data"
    }
   ],
   "source": [
    "sns.histplot(df['LoanAmount'],bins = 60)\n",
    "\n",
    "#create log-transformed data\n",
    "log_loan_amount = np.log(df['LoanAmount'])"
   ]
  },
  {
   "cell_type": "code",
   "execution_count": 27,
   "metadata": {},
   "outputs": [
    {
     "data": {
      "text/plain": [
       "<AxesSubplot:xlabel='LoanAmount', ylabel='Count'>"
      ]
     },
     "execution_count": 27,
     "metadata": {},
     "output_type": "execute_result"
    },
    {
     "data": {
      "image/png": "[encoded data removed]",
      "text/plain": [
       "<Figure size 432x288 with 1 Axes>"
      ]
     },
     "metadata": {
      "needs_background": "light"
     },
     "output_type": "display_data"
    }
   ],
   "source": [
    "sns.histplot(log_loan_amount, bins = 60)"
   ]
  },
  {
   "cell_type": "markdown",
   "metadata": {},
   "source": [
    "Combine both incomes as total income and take a log transformation of the same."
   ]
  },
  {
   "cell_type": "code",
   "execution_count": 28,
   "metadata": {
    "jupyter": {
     "outputs_hidden": false
    }
   },
   "outputs": [
    {
     "data": {
      "text/plain": [
       "<AxesSubplot:ylabel='Count'>"
      ]
     },
     "execution_count": 28,
     "metadata": {},
     "output_type": "execute_result"
    },
    {
     "data": {
      "image/png": "[encoded data removed]",
      "text/plain": [
       "<Figure size 432x288 with 1 Axes>"
      ]
     },
     "metadata": {
      "needs_background": "light"
     },
     "output_type": "display_data"
    }
   ],
   "source": [
    "combined_income = df['ApplicantIncome']+df['CoapplicantIncome']\n",
    "log_combined_income = np.log(combined_income)\n",
    "sns.histplot(log_combined_income, bins = 60)"
   ]
  },
  {
   "cell_type": "code",
   "execution_count": 29,
   "metadata": {},
   "outputs": [],
   "source": [
    "df['log_loan_amount']=log_loan_amount\n",
    "df['log_combined_income']=log_combined_income\n",
    "df=df.drop(columns=['ApplicantIncome','CoapplicantIncome','LoanAmount'])"
   ]
  },
  {
   "cell_type": "code",
   "execution_count": 30,
   "metadata": {},
   "outputs": [
    {
     "data": {
      "text/html": [
       "<div>\n",
       "<style scoped>\n",
       "    .dataframe tbody tr th:only-of-type {\n",
       "        vertical-align: middle;\n",
       "    }\n",
       "\n",
       "    .dataframe tbody tr th {\n",
       "        vertical-align: top;\n",
       "    }\n",
       "\n",
       "    .dataframe thead th {\n",
       "        text-align: right;\n",
       "    }\n",
       "</style>\n",
       "<table border=\"1\" class=\"dataframe\">\n",
       "  <thead>\n",
       "    <tr style=\"text-align: right;\">\n",
       "      <th></th>\n",
       "      <th>Loan_ID</th>\n",
       "      <th>Gender</th>\n",
       "      <th>Married</th>\n",
       "      <th>Dependents</th>\n",
       "      <th>Education</th>\n",
       "      <th>Self_Employed</th>\n",
       "      <th>Loan_Amount_Term</th>\n",
       "      <th>Credit_History</th>\n",
       "      <th>Property_Area</th>\n",
       "      <th>Loan_Status</th>\n",
       "      <th>log_loan_amount</th>\n",
       "      <th>log_combined_income</th>\n",
       "    </tr>\n",
       "  </thead>\n",
       "  <tbody>\n",
       "    <tr>\n",
       "      <th>0</th>\n",
       "      <td>LP001002</td>\n",
       "      <td>Male</td>\n",
       "      <td>No</td>\n",
       "      <td>0</td>\n",
       "      <td>Graduate</td>\n",
       "      <td>No</td>\n",
       "      <td>360.0</td>\n",
       "      <td>1.0</td>\n",
       "      <td>Urban</td>\n",
       "      <td>Y</td>\n",
       "      <td>4.986426</td>\n",
       "      <td>8.674026</td>\n",
       "    </tr>\n",
       "    <tr>\n",
       "      <th>1</th>\n",
       "      <td>LP001003</td>\n",
       "      <td>Male</td>\n",
       "      <td>Yes</td>\n",
       "      <td>1</td>\n",
       "      <td>Graduate</td>\n",
       "      <td>No</td>\n",
       "      <td>360.0</td>\n",
       "      <td>1.0</td>\n",
       "      <td>Rural</td>\n",
       "      <td>N</td>\n",
       "      <td>4.852030</td>\n",
       "      <td>8.714568</td>\n",
       "    </tr>\n",
       "    <tr>\n",
       "      <th>2</th>\n",
       "      <td>LP001005</td>\n",
       "      <td>Male</td>\n",
       "      <td>Yes</td>\n",
       "      <td>0</td>\n",
       "      <td>Graduate</td>\n",
       "      <td>Yes</td>\n",
       "      <td>360.0</td>\n",
       "      <td>1.0</td>\n",
       "      <td>Urban</td>\n",
       "      <td>Y</td>\n",
       "      <td>4.189655</td>\n",
       "      <td>8.006368</td>\n",
       "    </tr>\n",
       "    <tr>\n",
       "      <th>3</th>\n",
       "      <td>LP001006</td>\n",
       "      <td>Male</td>\n",
       "      <td>Yes</td>\n",
       "      <td>0</td>\n",
       "      <td>Not Graduate</td>\n",
       "      <td>No</td>\n",
       "      <td>360.0</td>\n",
       "      <td>1.0</td>\n",
       "      <td>Urban</td>\n",
       "      <td>Y</td>\n",
       "      <td>4.787492</td>\n",
       "      <td>8.505323</td>\n",
       "    </tr>\n",
       "    <tr>\n",
       "      <th>4</th>\n",
       "      <td>LP001008</td>\n",
       "      <td>Male</td>\n",
       "      <td>No</td>\n",
       "      <td>0</td>\n",
       "      <td>Graduate</td>\n",
       "      <td>No</td>\n",
       "      <td>360.0</td>\n",
       "      <td>1.0</td>\n",
       "      <td>Urban</td>\n",
       "      <td>Y</td>\n",
       "      <td>4.948760</td>\n",
       "      <td>8.699515</td>\n",
       "    </tr>\n",
       "    <tr>\n",
       "      <th>...</th>\n",
       "      <td>...</td>\n",
       "      <td>...</td>\n",
       "      <td>...</td>\n",
       "      <td>...</td>\n",
       "      <td>...</td>\n",
       "      <td>...</td>\n",
       "      <td>...</td>\n",
       "      <td>...</td>\n",
       "      <td>...</td>\n",
       "      <td>...</td>\n",
       "      <td>...</td>\n",
       "      <td>...</td>\n",
       "    </tr>\n",
       "    <tr>\n",
       "      <th>609</th>\n",
       "      <td>LP002978</td>\n",
       "      <td>Female</td>\n",
       "      <td>No</td>\n",
       "      <td>0</td>\n",
       "      <td>Graduate</td>\n",
       "      <td>No</td>\n",
       "      <td>360.0</td>\n",
       "      <td>1.0</td>\n",
       "      <td>Rural</td>\n",
       "      <td>Y</td>\n",
       "      <td>4.262680</td>\n",
       "      <td>7.972466</td>\n",
       "    </tr>\n",
       "    <tr>\n",
       "      <th>610</th>\n",
       "      <td>LP002979</td>\n",
       "      <td>Male</td>\n",
       "      <td>Yes</td>\n",
       "      <td>3+</td>\n",
       "      <td>Graduate</td>\n",
       "      <td>No</td>\n",
       "      <td>180.0</td>\n",
       "      <td>1.0</td>\n",
       "      <td>Rural</td>\n",
       "      <td>Y</td>\n",
       "      <td>3.688879</td>\n",
       "      <td>8.320205</td>\n",
       "    </tr>\n",
       "    <tr>\n",
       "      <th>611</th>\n",
       "      <td>LP002983</td>\n",
       "      <td>Male</td>\n",
       "      <td>Yes</td>\n",
       "      <td>1</td>\n",
       "      <td>Graduate</td>\n",
       "      <td>No</td>\n",
       "      <td>360.0</td>\n",
       "      <td>1.0</td>\n",
       "      <td>Urban</td>\n",
       "      <td>Y</td>\n",
       "      <td>5.533389</td>\n",
       "      <td>9.025456</td>\n",
       "    </tr>\n",
       "    <tr>\n",
       "      <th>612</th>\n",
       "      <td>LP002984</td>\n",
       "      <td>Male</td>\n",
       "      <td>Yes</td>\n",
       "      <td>2</td>\n",
       "      <td>Graduate</td>\n",
       "      <td>No</td>\n",
       "      <td>360.0</td>\n",
       "      <td>1.0</td>\n",
       "      <td>Urban</td>\n",
       "      <td>Y</td>\n",
       "      <td>5.231109</td>\n",
       "      <td>8.933664</td>\n",
       "    </tr>\n",
       "    <tr>\n",
       "      <th>613</th>\n",
       "      <td>LP002990</td>\n",
       "      <td>Female</td>\n",
       "      <td>No</td>\n",
       "      <td>0</td>\n",
       "      <td>Graduate</td>\n",
       "      <td>Yes</td>\n",
       "      <td>360.0</td>\n",
       "      <td>0.0</td>\n",
       "      <td>Semiurban</td>\n",
       "      <td>N</td>\n",
       "      <td>4.890349</td>\n",
       "      <td>8.430109</td>\n",
       "    </tr>\n",
       "  </tbody>\n",
       "</table>\n",
       "<p>614 rows × 12 columns</p>\n",
       "</div>"
      ],
      "text/plain": [
       "      Loan_ID  Gender Married Dependents     Education Self_Employed  \\\n",
       "0    LP001002    Male      No          0      Graduate            No   \n",
       "1    LP001003    Male     Yes          1      Graduate            No   \n",
       "2    LP001005    Male     Yes          0      Graduate           Yes   \n",
       "3    LP001006    Male     Yes          0  Not Graduate            No   \n",
       "4    LP001008    Male      No          0      Graduate            No   \n",
       "..        ...     ...     ...        ...           ...           ...   \n",
       "609  LP002978  Female      No          0      Graduate            No   \n",
       "610  LP002979    Male     Yes         3+      Graduate            No   \n",
       "611  LP002983    Male     Yes          1      Graduate            No   \n",
       "612  LP002984    Male     Yes          2      Graduate            No   \n",
       "613  LP002990  Female      No          0      Graduate           Yes   \n",
       "\n",
       "     Loan_Amount_Term  Credit_History Property_Area Loan_Status  \\\n",
       "0               360.0             1.0         Urban           Y   \n",
       "1               360.0             1.0         Rural           N   \n",
       "2               360.0             1.0         Urban           Y   \n",
       "3               360.0             1.0         Urban           Y   \n",
       "4               360.0             1.0         Urban           Y   \n",
       "..                ...             ...           ...         ...   \n",
       "609             360.0             1.0         Rural           Y   \n",
       "610             180.0             1.0         Rural           Y   \n",
       "611             360.0             1.0         Urban           Y   \n",
       "612             360.0             1.0         Urban           Y   \n",
       "613             360.0             0.0     Semiurban           N   \n",
       "\n",
       "     log_loan_amount  log_combined_income  \n",
       "0           4.986426             8.674026  \n",
       "1           4.852030             8.714568  \n",
       "2           4.189655             8.006368  \n",
       "3           4.787492             8.505323  \n",
       "4           4.948760             8.699515  \n",
       "..               ...                  ...  \n",
       "609         4.262680             7.972466  \n",
       "610         3.688879             8.320205  \n",
       "611         5.533389             9.025456  \n",
       "612         5.231109             8.933664  \n",
       "613         4.890349             8.430109  \n",
       "\n",
       "[614 rows x 12 columns]"
      ]
     },
     "execution_count": 30,
     "metadata": {},
     "output_type": "execute_result"
    }
   ],
   "source": [
    "df"
   ]
  },
  {
   "cell_type": "code",
   "execution_count": 31,
   "metadata": {},
   "outputs": [],
   "source": [
    "#Label Encoding\n",
    "df['Gender'] = df['Gender'].replace(['Male'],0)\n",
    "df['Gender'] = df['Gender'].replace(['Female'],1)\n",
    "df['Married'] = df['Married'].replace(['No','Yes'],[0,1])\n",
    "df['Dependents'] = df['Dependents'].replace(['0','1','2','3+'],[0,1,2,3])\n",
    "df['Education'] = df['Education'].replace(['Not Graduate','Graduate'],[0,1])\n",
    "df['Self_Employed'] = df['Self_Employed'].replace(['No','Yes'],[0,1])\n",
    "df['Property_Area'] = df['Property_Area'].replace(['Urban','Semiurban','Rural'],[0,1,2])\n",
    "df['Loan_Status'] = df['Loan_Status'].replace(['N','Y'],[0,1])"
   ]
  },
  {
   "cell_type": "code",
   "execution_count": 32,
   "metadata": {},
   "outputs": [
    {
     "data": {
      "text/html": [
       "<div>\n",
       "<style scoped>\n",
       "    .dataframe tbody tr th:only-of-type {\n",
       "        vertical-align: middle;\n",
       "    }\n",
       "\n",
       "    .dataframe tbody tr th {\n",
       "        vertical-align: top;\n",
       "    }\n",
       "\n",
       "    .dataframe thead th {\n",
       "        text-align: right;\n",
       "    }\n",
       "</style>\n",
       "<table border=\"1\" class=\"dataframe\">\n",
       "  <thead>\n",
       "    <tr style=\"text-align: right;\">\n",
       "      <th></th>\n",
       "      <th>Loan_ID</th>\n",
       "      <th>Gender</th>\n",
       "      <th>Married</th>\n",
       "      <th>Dependents</th>\n",
       "      <th>Education</th>\n",
       "      <th>Self_Employed</th>\n",
       "      <th>Loan_Amount_Term</th>\n",
       "      <th>Credit_History</th>\n",
       "      <th>Property_Area</th>\n",
       "      <th>Loan_Status</th>\n",
       "      <th>log_loan_amount</th>\n",
       "      <th>log_combined_income</th>\n",
       "    </tr>\n",
       "  </thead>\n",
       "  <tbody>\n",
       "    <tr>\n",
       "      <th>0</th>\n",
       "      <td>LP001002</td>\n",
       "      <td>0</td>\n",
       "      <td>0</td>\n",
       "      <td>0</td>\n",
       "      <td>1</td>\n",
       "      <td>0</td>\n",
       "      <td>360.0</td>\n",
       "      <td>1.0</td>\n",
       "      <td>0</td>\n",
       "      <td>1</td>\n",
       "      <td>4.986426</td>\n",
       "      <td>8.674026</td>\n",
       "    </tr>\n",
       "    <tr>\n",
       "      <th>1</th>\n",
       "      <td>LP001003</td>\n",
       "      <td>0</td>\n",
       "      <td>1</td>\n",
       "      <td>1</td>\n",
       "      <td>1</td>\n",
       "      <td>0</td>\n",
       "      <td>360.0</td>\n",
       "      <td>1.0</td>\n",
       "      <td>2</td>\n",
       "      <td>0</td>\n",
       "      <td>4.852030</td>\n",
       "      <td>8.714568</td>\n",
       "    </tr>\n",
       "    <tr>\n",
       "      <th>2</th>\n",
       "      <td>LP001005</td>\n",
       "      <td>0</td>\n",
       "      <td>1</td>\n",
       "      <td>0</td>\n",
       "      <td>1</td>\n",
       "      <td>1</td>\n",
       "      <td>360.0</td>\n",
       "      <td>1.0</td>\n",
       "      <td>0</td>\n",
       "      <td>1</td>\n",
       "      <td>4.189655</td>\n",
       "      <td>8.006368</td>\n",
       "    </tr>\n",
       "    <tr>\n",
       "      <th>3</th>\n",
       "      <td>LP001006</td>\n",
       "      <td>0</td>\n",
       "      <td>1</td>\n",
       "      <td>0</td>\n",
       "      <td>0</td>\n",
       "      <td>0</td>\n",
       "      <td>360.0</td>\n",
       "      <td>1.0</td>\n",
       "      <td>0</td>\n",
       "      <td>1</td>\n",
       "      <td>4.787492</td>\n",
       "      <td>8.505323</td>\n",
       "    </tr>\n",
       "    <tr>\n",
       "      <th>4</th>\n",
       "      <td>LP001008</td>\n",
       "      <td>0</td>\n",
       "      <td>0</td>\n",
       "      <td>0</td>\n",
       "      <td>1</td>\n",
       "      <td>0</td>\n",
       "      <td>360.0</td>\n",
       "      <td>1.0</td>\n",
       "      <td>0</td>\n",
       "      <td>1</td>\n",
       "      <td>4.948760</td>\n",
       "      <td>8.699515</td>\n",
       "    </tr>\n",
       "    <tr>\n",
       "      <th>...</th>\n",
       "      <td>...</td>\n",
       "      <td>...</td>\n",
       "      <td>...</td>\n",
       "      <td>...</td>\n",
       "      <td>...</td>\n",
       "      <td>...</td>\n",
       "      <td>...</td>\n",
       "      <td>...</td>\n",
       "      <td>...</td>\n",
       "      <td>...</td>\n",
       "      <td>...</td>\n",
       "      <td>...</td>\n",
       "    </tr>\n",
       "    <tr>\n",
       "      <th>609</th>\n",
       "      <td>LP002978</td>\n",
       "      <td>1</td>\n",
       "      <td>0</td>\n",
       "      <td>0</td>\n",
       "      <td>1</td>\n",
       "      <td>0</td>\n",
       "      <td>360.0</td>\n",
       "      <td>1.0</td>\n",
       "      <td>2</td>\n",
       "      <td>1</td>\n",
       "      <td>4.262680</td>\n",
       "      <td>7.972466</td>\n",
       "    </tr>\n",
       "    <tr>\n",
       "      <th>610</th>\n",
       "      <td>LP002979</td>\n",
       "      <td>0</td>\n",
       "      <td>1</td>\n",
       "      <td>3</td>\n",
       "      <td>1</td>\n",
       "      <td>0</td>\n",
       "      <td>180.0</td>\n",
       "      <td>1.0</td>\n",
       "      <td>2</td>\n",
       "      <td>1</td>\n",
       "      <td>3.688879</td>\n",
       "      <td>8.320205</td>\n",
       "    </tr>\n",
       "    <tr>\n",
       "      <th>611</th>\n",
       "      <td>LP002983</td>\n",
       "      <td>0</td>\n",
       "      <td>1</td>\n",
       "      <td>1</td>\n",
       "      <td>1</td>\n",
       "      <td>0</td>\n",
       "      <td>360.0</td>\n",
       "      <td>1.0</td>\n",
       "      <td>0</td>\n",
       "      <td>1</td>\n",
       "      <td>5.533389</td>\n",
       "      <td>9.025456</td>\n",
       "    </tr>\n",
       "    <tr>\n",
       "      <th>612</th>\n",
       "      <td>LP002984</td>\n",
       "      <td>0</td>\n",
       "      <td>1</td>\n",
       "      <td>2</td>\n",
       "      <td>1</td>\n",
       "      <td>0</td>\n",
       "      <td>360.0</td>\n",
       "      <td>1.0</td>\n",
       "      <td>0</td>\n",
       "      <td>1</td>\n",
       "      <td>5.231109</td>\n",
       "      <td>8.933664</td>\n",
       "    </tr>\n",
       "    <tr>\n",
       "      <th>613</th>\n",
       "      <td>LP002990</td>\n",
       "      <td>1</td>\n",
       "      <td>0</td>\n",
       "      <td>0</td>\n",
       "      <td>1</td>\n",
       "      <td>1</td>\n",
       "      <td>360.0</td>\n",
       "      <td>0.0</td>\n",
       "      <td>1</td>\n",
       "      <td>0</td>\n",
       "      <td>4.890349</td>\n",
       "      <td>8.430109</td>\n",
       "    </tr>\n",
       "  </tbody>\n",
       "</table>\n",
       "<p>614 rows × 12 columns</p>\n",
       "</div>"
      ],
      "text/plain": [
       "      Loan_ID  Gender  Married  Dependents  Education  Self_Employed  \\\n",
       "0    LP001002       0        0           0          1              0   \n",
       "1    LP001003       0        1           1          1              0   \n",
       "2    LP001005       0        1           0          1              1   \n",
       "3    LP001006       0        1           0          0              0   \n",
       "4    LP001008       0        0           0          1              0   \n",
       "..        ...     ...      ...         ...        ...            ...   \n",
       "609  LP002978       1        0           0          1              0   \n",
       "610  LP002979       0        1           3          1              0   \n",
       "611  LP002983       0        1           1          1              0   \n",
       "612  LP002984       0        1           2          1              0   \n",
       "613  LP002990       1        0           0          1              1   \n",
       "\n",
       "     Loan_Amount_Term  Credit_History  Property_Area  Loan_Status  \\\n",
       "0               360.0             1.0              0            1   \n",
       "1               360.0             1.0              2            0   \n",
       "2               360.0             1.0              0            1   \n",
       "3               360.0             1.0              0            1   \n",
       "4               360.0             1.0              0            1   \n",
       "..                ...             ...            ...          ...   \n",
       "609             360.0             1.0              2            1   \n",
       "610             180.0             1.0              2            1   \n",
       "611             360.0             1.0              0            1   \n",
       "612             360.0             1.0              0            1   \n",
       "613             360.0             0.0              1            0   \n",
       "\n",
       "     log_loan_amount  log_combined_income  \n",
       "0           4.986426             8.674026  \n",
       "1           4.852030             8.714568  \n",
       "2           4.189655             8.006368  \n",
       "3           4.787492             8.505323  \n",
       "4           4.948760             8.699515  \n",
       "..               ...                  ...  \n",
       "609         4.262680             7.972466  \n",
       "610         3.688879             8.320205  \n",
       "611         5.533389             9.025456  \n",
       "612         5.231109             8.933664  \n",
       "613         4.890349             8.430109  \n",
       "\n",
       "[614 rows x 12 columns]"
      ]
     },
     "execution_count": 32,
     "metadata": {},
     "output_type": "execute_result"
    }
   ],
   "source": [
    "df"
   ]
  },
  {
   "cell_type": "markdown",
   "metadata": {},
   "source": [
    "## 4 & 5. Building a Predictive Model using Pipelines\n",
    "If you didn't use pipelines before, transform your data prep, feat. engineering and modeling steps into Pipeline. It will be helpful for deployment.\n",
    "\n",
    "The goal here is to create the pipeline that will take one row of our dataset and predict the probability of being granted a loan.\n",
    "\n",
    "`pipeline.predict(x)`"
   ]
  },
  {
   "cell_type": "code",
   "execution_count": null,
   "metadata": {},
   "outputs": [],
   "source": []
  },
  {
   "cell_type": "code",
   "execution_count": 33,
   "metadata": {
    "jupyter": {
     "outputs_hidden": false
    }
   },
   "outputs": [],
   "source": [
    "import pandas as pd\n",
    "import numpy as np\n",
    "from sklearn.preprocessing import StandardScaler\n",
    "from sklearn.model_selection import GridSearchCV, TimeSeriesSplit, train_test_split\n",
    "from sklearn.pipeline import Pipeline\n",
    "from sklearn.ensemble import RandomForestClassifier\n",
    "from sklearn.datasets import make_classification\n",
    "import xgboost as xgb\n",
    "from xgboost import XGBClassifier\n",
    "from sklearn import metrics\n",
    "from sklearn.model_selection import cross_val_score\n"
   ]
  },
  {
   "cell_type": "code",
   "execution_count": 34,
   "metadata": {},
   "outputs": [],
   "source": [
    "y=df.Loan_Status\n",
    "X=df.drop(columns = ['Loan_Status','Loan_ID'],axis=1)"
   ]
  },
  {
   "cell_type": "code",
   "execution_count": 35,
   "metadata": {},
   "outputs": [],
   "source": [
    "#train test split\n",
    "X_train, X_test, y_train, y_test = train_test_split(\n",
    "    X, y, test_size=0.30)"
   ]
  },
  {
   "cell_type": "code",
   "execution_count": 36,
   "metadata": {},
   "outputs": [],
   "source": [
    "#numerical and categorical encoding\n",
    "numerical = list(X.dtypes[X.dtypes != 'object'].index)\n",
    "numerical = [i for i in numerical if i not in {'Credit_History'}]\n",
    "categorical = list(X.dtypes[X.dtypes == 'object'].index)\n",
    "categorical.append(['Credit_History'])"
   ]
  },
  {
   "cell_type": "code",
   "execution_count": 37,
   "metadata": {},
   "outputs": [],
   "source": [
    "#log transform\n",
    "from sklearn.preprocessing import FunctionTransformer, OrdinalEncoder,StandardScaler,LabelEncoder\n",
    "\n",
    "def log_transform(x):\n",
    "    print(x)\n",
    "    return np.log(x + 1)\n",
    "\n",
    "\n",
    "scaler = StandardScaler()\n",
    "transformer = FunctionTransformer(log_transform)"
   ]
  },
  {
   "cell_type": "code",
   "execution_count": 38,
   "metadata": {},
   "outputs": [],
   "source": [
    "#creating numerical and categorical pipelines \n",
    "from sklearn.feature_selection import SelectKBest\n",
    "from sklearn.pipeline import Pipeline, FeatureUnion, make_pipeline\n",
    "from sklearn.compose import make_column_transformer,ColumnTransformer\n",
    "from sklearn.preprocessing import OneHotEncoder\n",
    "\n",
    "numerical_pipe = Pipeline(steps = [('transformer',transformer),\n",
    "                                   ('scaler', scaler),\n",
    "                                   ('selectkbest', SelectKBest(k=3))])"
   ]
  },
  {
   "cell_type": "code",
   "execution_count": 39,
   "metadata": {},
   "outputs": [],
   "source": [
    "column_transform = ColumnTransformer(transformers = [\n",
    "    ('numerical_pipe',numerical_pipe, numerical)])"
   ]
  },
  {
   "cell_type": "markdown",
   "metadata": {},
   "source": [
    "### Random Forest Classifier"
   ]
  },
  {
   "cell_type": "code",
   "execution_count": 40,
   "metadata": {},
   "outputs": [],
   "source": [
    "#create Pipelines randomforestclassifier\n",
    "model_pipe_rfc = Pipeline(steps = [\n",
    "    ('preprocessor',column_transform),\n",
    "    ('clf', RandomForestClassifier(n_estimators = 100,\n",
    "                               oob_score = True,\n",
    "                               random_state = 123,\n",
    "                               n_jobs = -1))\n",
    "])"
   ]
  },
  {
   "cell_type": "code",
   "execution_count": 41,
   "metadata": {
    "collapsed": true
   },
   "outputs": [
    {
     "name": "stdout",
     "output_type": "stream",
     "text": [
      "     Gender  Married  Dependents  Education  Self_Employed  Loan_Amount_Term  \\\n",
      "264       0        0           0          1              1             360.0   \n",
      "152       0        0           0          1              0             360.0   \n",
      "131       0        0           0          1              0             360.0   \n",
      "150       0        0           0          1              0             360.0   \n",
      "83        0        1           0          1              0             360.0   \n",
      "..      ...      ...         ...        ...            ...               ...   \n",
      "324       0        1           3          1              0             360.0   \n",
      "532       0        0           2          1              0             360.0   \n",
      "331       0        0           0          1              0             360.0   \n",
      "1         0        1           1          1              0             360.0   \n",
      "337       0        1           2          1              1             360.0   \n",
      "\n",
      "     Property_Area  log_loan_amount  log_combined_income  \n",
      "264              1         4.852030             8.549854  \n",
      "152              0         5.497168             9.123256  \n",
      "131              0         4.304065             8.279697  \n",
      "150              2         4.770685             8.744647  \n",
      "83               1         5.579730             9.017968  \n",
      "..             ...              ...                  ...  \n",
      "324              2         5.703782             9.615805  \n",
      "532              2         4.700480             8.185350  \n",
      "331              1         4.584967             7.984463  \n",
      "1                2         4.852030             8.714568  \n",
      "337              2         5.170484             8.867850  \n",
      "\n",
      "[429 rows x 9 columns]\n",
      "     Gender  Married  Dependents  Education  Self_Employed  Loan_Amount_Term  \\\n",
      "557       0        1           3          1              1             360.0   \n",
      "403       1        0           0          0              0             360.0   \n",
      "249       0        1           0          1              0             360.0   \n",
      "110       0        0           0          1              0             360.0   \n",
      "165       0        1           0          1              0             360.0   \n",
      "..      ...      ...         ...        ...            ...               ...   \n",
      "324       0        1           3          1              0             360.0   \n",
      "532       0        0           2          1              0             360.0   \n",
      "331       0        0           0          1              0             360.0   \n",
      "1         0        1           1          1              0             360.0   \n",
      "337       0        1           2          1              1             360.0   \n",
      "\n",
      "     Property_Area  log_loan_amount  log_combined_income  \n",
      "557              1         5.560682             9.224145  \n",
      "403              1         3.970292             7.582229  \n",
      "249              0         4.499810             8.209852  \n",
      "110              0         4.912655             8.578476  \n",
      "165              2         5.204007             8.835356  \n",
      "..             ...              ...                  ...  \n",
      "324              2         5.703782             9.615805  \n",
      "532              2         4.700480             8.185350  \n",
      "331              1         4.584967             7.984463  \n",
      "1                2         4.852030             8.714568  \n",
      "337              2         5.170484             8.867850  \n",
      "\n",
      "[343 rows x 9 columns]\n",
      "     Gender  Married  Dependents  Education  Self_Employed  Loan_Amount_Term  \\\n",
      "264       0        0           0          1              1             360.0   \n",
      "152       0        0           0          1              0             360.0   \n",
      "131       0        0           0          1              0             360.0   \n",
      "150       0        0           0          1              0             360.0   \n",
      "83        0        1           0          1              0             360.0   \n",
      "..      ...      ...         ...        ...            ...               ...   \n",
      "36        0        1           0          1              0             360.0   \n",
      "487       0        1           1          1              0             360.0   \n",
      "73        0        1           3          0              0             360.0   \n",
      "538       0        1           0          0              0             360.0   \n",
      "585       0        1           1          1              0              84.0   \n",
      "\n",
      "     Property_Area  log_loan_amount  log_combined_income  \n",
      "264              1         4.852030             8.549854  \n",
      "152              0         5.497168             9.123256  \n",
      "131              0         4.304065             8.279697  \n",
      "150              2         4.770685             8.744647  \n",
      "83               1         5.579730             9.017968  \n",
      "..             ...              ...                  ...  \n",
      "36               0         4.605170             8.057694  \n",
      "487              0         6.214608             9.816458  \n",
      "73               1         4.553877             8.466952  \n",
      "538              2         4.189655             8.146999  \n",
      "585              2         5.147494             8.893298  \n",
      "\n",
      "[86 rows x 9 columns]\n",
      "     Gender  Married  Dependents  Education  Self_Employed  Loan_Amount_Term  \\\n",
      "264       0        0           0          1              1             360.0   \n",
      "152       0        0           0          1              0             360.0   \n",
      "131       0        0           0          1              0             360.0   \n",
      "150       0        0           0          1              0             360.0   \n",
      "83        0        1           0          1              0             360.0   \n",
      "..      ...      ...         ...        ...            ...               ...   \n",
      "324       0        1           3          1              0             360.0   \n",
      "532       0        0           2          1              0             360.0   \n",
      "331       0        0           0          1              0             360.0   \n",
      "1         0        1           1          1              0             360.0   \n",
      "337       0        1           2          1              1             360.0   \n",
      "\n",
      "     Property_Area  log_loan_amount  log_combined_income  \n",
      "264              1         4.852030             8.549854  \n",
      "152              0         5.497168             9.123256  \n",
      "131              0         4.304065             8.279697  \n",
      "150              2         4.770685             8.744647  \n",
      "83               1         5.579730             9.017968  \n",
      "..             ...              ...                  ...  \n",
      "324              2         5.703782             9.615805  \n",
      "532              2         4.700480             8.185350  \n",
      "331              1         4.584967             7.984463  \n",
      "1                2         4.852030             8.714568  \n",
      "337              2         5.170484             8.867850  \n",
      "\n",
      "[343 rows x 9 columns]\n",
      "     Gender  Married  Dependents  Education  Self_Employed  Loan_Amount_Term  \\\n",
      "557       0        1           3          1              1             360.0   \n",
      "403       1        0           0          0              0             360.0   \n",
      "249       0        1           0          1              0             360.0   \n",
      "110       0        0           0          1              0             360.0   \n",
      "165       0        1           0          1              0             360.0   \n",
      "..      ...      ...         ...        ...            ...               ...   \n",
      "234       0        1           1          1              0             360.0   \n",
      "287       0        1           0          1              0             360.0   \n",
      "421       1        0           0          0              0             360.0   \n",
      "189       0        1           0          1              0             180.0   \n",
      "121       1        0           0          1              0             360.0   \n",
      "\n",
      "     Property_Area  log_loan_amount  log_combined_income  \n",
      "557              1         5.560682             9.224145  \n",
      "403              1         3.970292             7.582229  \n",
      "249              0         4.499810             8.209852  \n",
      "110              0         4.912655             8.578476  \n",
      "165              2         5.204007             8.835356  \n",
      "..             ...              ...                  ...  \n",
      "234              1         4.941642             8.503905  \n",
      "287              2         4.787492             8.648923  \n",
      "421              0         4.382027             7.908387  \n",
      "189              2         5.236442             9.140776  \n",
      "121              1         3.784190             8.334712  \n",
      "\n",
      "[86 rows x 9 columns]\n",
      "     Gender  Married  Dependents  Education  Self_Employed  Loan_Amount_Term  \\\n",
      "264       0        0           0          1              1             360.0   \n",
      "152       0        0           0          1              0             360.0   \n",
      "131       0        0           0          1              0             360.0   \n",
      "150       0        0           0          1              0             360.0   \n",
      "83        0        1           0          1              0             360.0   \n",
      "..      ...      ...         ...        ...            ...               ...   \n",
      "324       0        1           3          1              0             360.0   \n",
      "532       0        0           2          1              0             360.0   \n",
      "331       0        0           0          1              0             360.0   \n",
      "1         0        1           1          1              0             360.0   \n",
      "337       0        1           2          1              1             360.0   \n",
      "\n",
      "     Property_Area  log_loan_amount  log_combined_income  \n",
      "264              1         4.852030             8.549854  \n",
      "152              0         5.497168             9.123256  \n",
      "131              0         4.304065             8.279697  \n",
      "150              2         4.770685             8.744647  \n",
      "83               1         5.579730             9.017968  \n",
      "..             ...              ...                  ...  \n",
      "324              2         5.703782             9.615805  \n",
      "532              2         4.700480             8.185350  \n",
      "331              1         4.584967             7.984463  \n",
      "1                2         4.852030             8.714568  \n",
      "337              2         5.170484             8.867850  \n",
      "\n",
      "[343 rows x 9 columns]\n"
     ]
    },
    {
     "name": "stdout",
     "output_type": "stream",
     "text": [
      "     Gender  Married  Dependents  Education  Self_Employed  Loan_Amount_Term  \\\n",
      "528       0        0           1          0              0             360.0   \n",
      "137       0        1           2          1              1             360.0   \n",
      "123       0        1           2          1              0             360.0   \n",
      "282       0        1           2          1              0             180.0   \n",
      "520       0        1           2          0              0             360.0   \n",
      "..      ...      ...         ...        ...            ...               ...   \n",
      "537       0        0           2          1              0             360.0   \n",
      "455       0        1           2          1              0             360.0   \n",
      "383       0        0           0          1              1             360.0   \n",
      "370       1        0           0          1              1             360.0   \n",
      "4         0        0           0          1              0             360.0   \n",
      "\n",
      "     Property_Area  log_loan_amount  log_combined_income  \n",
      "528              1         4.543295             8.289288  \n",
      "137              0         4.477337             8.827028  \n",
      "123              1         4.394449             7.991931  \n",
      "282              0         4.356709             8.097670  \n",
      "520              1         3.806662             8.277412  \n",
      "..             ...              ...                  ...  \n",
      "537              1         4.672829             8.193400  \n",
      "455              1         4.564348             8.258163  \n",
      "383              0         4.852030             8.877242  \n",
      "370              1         4.007333             9.665167  \n",
      "4                0         4.948760             8.699515  \n",
      "\n",
      "[86 rows x 9 columns]\n",
      "     Gender  Married  Dependents  Education  Self_Employed  Loan_Amount_Term  \\\n",
      "264       0        0           0          1              1             360.0   \n",
      "152       0        0           0          1              0             360.0   \n",
      "131       0        0           0          1              0             360.0   \n",
      "150       0        0           0          1              0             360.0   \n",
      "83        0        1           0          1              0             360.0   \n",
      "..      ...      ...         ...        ...            ...               ...   \n",
      "324       0        1           3          1              0             360.0   \n",
      "532       0        0           2          1              0             360.0   \n",
      "331       0        0           0          1              0             360.0   \n",
      "1         0        1           1          1              0             360.0   \n",
      "337       0        1           2          1              1             360.0   \n",
      "\n",
      "     Property_Area  log_loan_amount  log_combined_income  \n",
      "264              1         4.852030             8.549854  \n",
      "152              0         5.497168             9.123256  \n",
      "131              0         4.304065             8.279697  \n",
      "150              2         4.770685             8.744647  \n",
      "83               1         5.579730             9.017968  \n",
      "..             ...              ...                  ...  \n",
      "324              2         5.703782             9.615805  \n",
      "532              2         4.700480             8.185350  \n",
      "331              1         4.584967             7.984463  \n",
      "1                2         4.852030             8.714568  \n",
      "337              2         5.170484             8.867850  \n",
      "\n",
      "[343 rows x 9 columns]\n",
      "     Gender  Married  Dependents  Education  Self_Employed  Loan_Amount_Term  \\\n",
      "546       0        0           0          0              0              36.0   \n",
      "183       0        1           1          1              0             360.0   \n",
      "139       0        1           2          0              0             360.0   \n",
      "427       0        1           2          1              0             360.0   \n",
      "99        0        1           0          1              0             360.0   \n",
      "..      ...      ...         ...        ...            ...               ...   \n",
      "522       0        1           3          1              1             360.0   \n",
      "385       0        0           1          1              0             180.0   \n",
      "321       0        1           3          1              0             360.0   \n",
      "342       0        1           1          0              0             360.0   \n",
      "472       0        1           3          1              0             360.0   \n",
      "\n",
      "     Property_Area  log_loan_amount  log_combined_income  \n",
      "546              1         4.382027             8.119101  \n",
      "183              1         5.560682            10.429576  \n",
      "139              2         4.859812             8.635865  \n",
      "427              1         4.890349             8.688622  \n",
      "99               1         4.875197             8.575462  \n",
      "..             ...              ...                  ...  \n",
      "522              2         4.605170             8.867991  \n",
      "385              0         4.727388             8.207129  \n",
      "321              1         4.820282             8.418698  \n",
      "342              0         5.062595             8.662678  \n",
      "472              1         4.605170             8.453401  \n",
      "\n",
      "[86 rows x 9 columns]\n",
      "     Gender  Married  Dependents  Education  Self_Employed  Loan_Amount_Term  \\\n",
      "264       0        0           0          1              1             360.0   \n",
      "152       0        0           0          1              0             360.0   \n",
      "131       0        0           0          1              0             360.0   \n",
      "150       0        0           0          1              0             360.0   \n",
      "83        0        1           0          1              0             360.0   \n",
      "..      ...      ...         ...        ...            ...               ...   \n",
      "522       0        1           3          1              1             360.0   \n",
      "385       0        0           1          1              0             180.0   \n",
      "321       0        1           3          1              0             360.0   \n",
      "342       0        1           1          0              0             360.0   \n",
      "472       0        1           3          1              0             360.0   \n",
      "\n",
      "     Property_Area  log_loan_amount  log_combined_income  \n",
      "264              1         4.852030             8.549854  \n",
      "152              0         5.497168             9.123256  \n",
      "131              0         4.304065             8.279697  \n",
      "150              2         4.770685             8.744647  \n",
      "83               1         5.579730             9.017968  \n",
      "..             ...              ...                  ...  \n",
      "522              2         4.605170             8.867991  \n",
      "385              0         4.727388             8.207129  \n",
      "321              1         4.820282             8.418698  \n",
      "342              0         5.062595             8.662678  \n",
      "472              1         4.605170             8.453401  \n",
      "\n",
      "[344 rows x 9 columns]\n",
      "     Gender  Married  Dependents  Education  Self_Employed  Loan_Amount_Term  \\\n",
      "513       0        1           0          1              0             180.0   \n",
      "584       0        1           1          1              0             360.0   \n",
      "143       0        1           0          1              0             360.0   \n",
      "79        0        1           3          0              1             360.0   \n",
      "22        0        1           0          0              0             360.0   \n",
      "..      ...      ...         ...        ...            ...               ...   \n",
      "324       0        1           3          1              0             360.0   \n",
      "532       0        0           2          1              0             360.0   \n",
      "331       0        0           0          1              0             360.0   \n",
      "1         0        1           1          1              0             360.0   \n",
      "337       0        1           2          1              1             360.0   \n",
      "\n",
      "     Property_Area  log_loan_amount  log_combined_income  \n",
      "513              1         4.248495             9.082052  \n",
      "584              2         4.983607             8.456168  \n",
      "143              1         4.804021             8.462103  \n",
      "79               1         4.867534             8.612322  \n",
      "22               1         4.753590             8.414274  \n",
      "..             ...              ...                  ...  \n",
      "324              2         5.703782             9.615805  \n",
      "532              2         4.700480             8.185350  \n",
      "331              1         4.584967             7.984463  \n",
      "1                2         4.852030             8.714568  \n",
      "337              2         5.170484             8.867850  \n",
      "\n",
      "[85 rows x 9 columns]\n",
      "Train set score: [0.55813953 0.59302326 0.54651163 0.53488372 0.55294118]\n"
     ]
    }
   ],
   "source": [
    "#fit model\n",
    "basemodel = model_pipe_rfc.fit(X_train, y_train)\n",
    "\n",
    "train_score = cross_val_score(model_pipe_rfc,X_train,y_train,cv=5)\n",
    "print(f'Train set score: {train_score}')"
   ]
  },
  {
   "cell_type": "code",
   "execution_count": 42,
   "metadata": {
    "scrolled": true
   },
   "outputs": [
    {
     "name": "stdout",
     "output_type": "stream",
     "text": [
      "     Gender  Married  Dependents  Education  Self_Employed  Loan_Amount_Term  \\\n",
      "100       0        1           2          0              0             180.0   \n",
      "45        1        0           0          1              0             360.0   \n",
      "464       0        0           0          1              0             360.0   \n",
      "389       0        1           0          1              0             360.0   \n",
      "553       0        1           0          0              0             360.0   \n",
      "..      ...      ...         ...        ...            ...               ...   \n",
      "192       0        1           0          0              0             360.0   \n",
      "191       0        0           0          1              0             360.0   \n",
      "263       1        0           0          1              0             360.0   \n",
      "130       0        0           0          1              1             480.0   \n",
      "116       1        1           0          1              0             360.0   \n",
      "\n",
      "     Property_Area  log_loan_amount  log_combined_income  \n",
      "100              0         4.890349             8.929435  \n",
      "45               0         4.477337             8.134468  \n",
      "464              1         4.584967             8.334712  \n",
      "389              2         4.828314             8.610319  \n",
      "553              0         5.198497             8.473659  \n",
      "..             ...              ...                  ...  \n",
      "192              0         5.075174             8.705000  \n",
      "191              1         5.099866             9.392662  \n",
      "263              2         4.787492             8.881836  \n",
      "130              0         6.476972             9.911753  \n",
      "116              1         5.036953             8.603371  \n",
      "\n",
      "[185 rows x 9 columns]\n",
      "Test set accuracy: 0.5351351351351351\n"
     ]
    }
   ],
   "source": [
    "y_pred = model_pipe_rfc.predict(X_test)\n",
    "acc = metrics.accuracy_score(y_test, y_pred)\n",
    "print(f'Test set accuracy: {acc}')"
   ]
  },
  {
   "cell_type": "markdown",
   "metadata": {},
   "source": [
    "Try paramater grid search to improve the results"
   ]
  },
  {
   "cell_type": "code",
   "execution_count": 43,
   "metadata": {
    "collapsed": true
   },
   "outputs": [
    {
     "name": "stdout",
     "output_type": "stream",
     "text": [
      "Fitting 5 folds for each of 1350 candidates, totalling 6750 fits\n",
      "     Gender  Married  Dependents  Education  Self_Employed  Loan_Amount_Term  \\\n",
      "264       0        0           0          1              1             360.0   \n",
      "152       0        0           0          1              0             360.0   \n",
      "131       0        0           0          1              0             360.0   \n",
      "150       0        0           0          1              0             360.0   \n",
      "83        0        1           0          1              0             360.0   \n",
      "..      ...      ...         ...        ...            ...               ...   \n",
      "324       0        1           3          1              0             360.0   \n",
      "532       0        0           2          1              0             360.0   \n",
      "331       0        0           0          1              0             360.0   \n",
      "1         0        1           1          1              0             360.0   \n",
      "337       0        1           2          1              1             360.0   \n",
      "\n",
      "     Property_Area  log_loan_amount  log_combined_income  \n",
      "264              1         4.852030             8.549854  \n",
      "152              0         5.497168             9.123256  \n",
      "131              0         4.304065             8.279697  \n",
      "150              2         4.770685             8.744647  \n",
      "83               1         5.579730             9.017968  \n",
      "..             ...              ...                  ...  \n",
      "324              2         5.703782             9.615805  \n",
      "532              2         4.700480             8.185350  \n",
      "331              1         4.584967             7.984463  \n",
      "1                2         4.852030             8.714568  \n",
      "337              2         5.170484             8.867850  \n",
      "\n",
      "[429 rows x 9 columns]\n"
     ]
    },
    {
     "data": {
      "text/plain": [
       "GridSearchCV(cv=5,\n",
       "             estimator=Pipeline(steps=[('preprocessor',\n",
       "                                        ColumnTransformer(transformers=[('numerical_pipe',\n",
       "                                                                         Pipeline(steps=[('transformer',\n",
       "                                                                                          FunctionTransformer(func=<function log_transform at 0x0000019AC13584C0>)),\n",
       "                                                                                         ('scaler',\n",
       "                                                                                          StandardScaler()),\n",
       "                                                                                         ('selectkbest',\n",
       "                                                                                          SelectKBest(k=3))]),\n",
       "                                                                         ['Gender',\n",
       "                                                                          'Married',\n",
       "                                                                          'Dependents',\n",
       "                                                                          'Education',\n",
       "                                                                          'Self_Employed',\n",
       "                                                                          'Loan_Amount_T...\n",
       "                                        RandomForestClassifier(n_jobs=-1,\n",
       "                                                               oob_score=True,\n",
       "                                                               random_state=123))]),\n",
       "             n_jobs=-1,\n",
       "             param_grid={'clf__min_samples_leaf': [1, 2, 4],\n",
       "                         'clf__min_samples_split': [2, 5, 10],\n",
       "                         'clf__n_estimators': [50, 59, 68, 77, 86, 95, 105, 114,\n",
       "                                               123, 132, 141, 151, 160, 169,\n",
       "                                               178, 187, 196, 206, 215, 224,\n",
       "                                               233, 242, 252, 261, 270, 279,\n",
       "                                               288, 297, 307, 316, ...],\n",
       "                         'preprocessor__numerical_pipe__selectkbest__k': [1, 2,\n",
       "                                                                          3]},\n",
       "             verbose=1)"
      ]
     },
     "execution_count": 43,
     "metadata": {},
     "output_type": "execute_result"
    }
   ],
   "source": [
    "#gridsearch for random forest\n",
    "\n",
    "param_grid = {'clf__n_estimators': [int(x) for x in np.linspace(start = 50, stop = 500, num = 50)], \n",
    "              'clf__min_samples_split': [2, 5, 10],\n",
    "              'clf__min_samples_leaf': [1,2,4],\n",
    "            'preprocessor__numerical_pipe__selectkbest__k':[1,2,3]}\n",
    "\n",
    "grid = GridSearchCV(model_pipe_rfc, param_grid=param_grid, cv=5, n_jobs=-1,verbose=1,refit = True)\n",
    "grid.fit(X_train, y_train)"
   ]
  },
  {
   "cell_type": "code",
   "execution_count": 44,
   "metadata": {},
   "outputs": [
    {
     "name": "stdout",
     "output_type": "stream",
     "text": [
      "     Gender  Married  Dependents  Education  Self_Employed  Loan_Amount_Term  \\\n",
      "100       0        1           2          0              0             180.0   \n",
      "45        1        0           0          1              0             360.0   \n",
      "464       0        0           0          1              0             360.0   \n",
      "389       0        1           0          1              0             360.0   \n",
      "553       0        1           0          0              0             360.0   \n",
      "..      ...      ...         ...        ...            ...               ...   \n",
      "192       0        1           0          0              0             360.0   \n",
      "191       0        0           0          1              0             360.0   \n",
      "263       1        0           0          1              0             360.0   \n",
      "130       0        0           0          1              1             480.0   \n",
      "116       1        1           0          1              0             360.0   \n",
      "\n",
      "     Property_Area  log_loan_amount  log_combined_income  \n",
      "100              0         4.890349             8.929435  \n",
      "45               0         4.477337             8.134468  \n",
      "464              1         4.584967             8.334712  \n",
      "389              2         4.828314             8.610319  \n",
      "553              0         5.198497             8.473659  \n",
      "..             ...              ...                  ...  \n",
      "192              0         5.075174             8.705000  \n",
      "191              1         5.099866             9.392662  \n",
      "263              2         4.787492             8.881836  \n",
      "130              0         6.476972             9.911753  \n",
      "116              1         5.036953             8.603371  \n",
      "\n",
      "[185 rows x 9 columns]\n",
      "Best test set accuracy: 0.6918918918918919\n",
      "Achieved with{'clf__min_samples_leaf': 1, 'clf__min_samples_split': 2, 'clf__n_estimators': 50, 'preprocessor__numerical_pipe__selectkbest__k': 1}\n"
     ]
    }
   ],
   "source": [
    "best_model = grid.best_estimator_\n",
    "best_hyperparams = grid.best_params_\n",
    "best_acc = grid.score(X_test, y_test)\n",
    "print(f'Best test set accuracy: {best_acc}\\nAchieved with{best_hyperparams}')"
   ]
  },
  {
   "cell_type": "markdown",
   "metadata": {},
   "source": [
    "## XGBClassifier"
   ]
  },
  {
   "cell_type": "code",
   "execution_count": 45,
   "metadata": {},
   "outputs": [],
   "source": [
    "#create pipelines for xgbclassifier\n",
    "model_pipe_xgbc = Pipeline(steps = [\n",
    "    ('preprocessor',column_transform),\n",
    "    ('clf', XGBClassifier(\n",
    "                     learning_rate = 0.1,\n",
    "                     colsample_bytree = 1,\n",
    "                     max_depth = 10, \n",
    "                     reg_alpha = 10,\n",
    "                     n_estimators = 100,\n",
    "                     n_jobs=-1))\n",
    "])"
   ]
  },
  {
   "cell_type": "code",
   "execution_count": 46,
   "metadata": {},
   "outputs": [
    {
     "name": "stdout",
     "output_type": "stream",
     "text": [
      "Fitting 5 folds for each of 19440 candidates, totalling 97200 fits\n",
      "     Gender  Married  Dependents  Education  Self_Employed  Loan_Amount_Term  \\\n",
      "264       0        0           0          1              1             360.0   \n",
      "152       0        0           0          1              0             360.0   \n",
      "131       0        0           0          1              0             360.0   \n",
      "150       0        0           0          1              0             360.0   \n",
      "83        0        1           0          1              0             360.0   \n",
      "..      ...      ...         ...        ...            ...               ...   \n",
      "324       0        1           3          1              0             360.0   \n",
      "532       0        0           2          1              0             360.0   \n",
      "331       0        0           0          1              0             360.0   \n",
      "1         0        1           1          1              0             360.0   \n",
      "337       0        1           2          1              1             360.0   \n",
      "\n",
      "     Property_Area  log_loan_amount  log_combined_income  \n",
      "264              1         4.852030             8.549854  \n",
      "152              0         5.497168             9.123256  \n",
      "131              0         4.304065             8.279697  \n",
      "150              2         4.770685             8.744647  \n",
      "83               1         5.579730             9.017968  \n",
      "..             ...              ...                  ...  \n",
      "324              2         5.703782             9.615805  \n",
      "532              2         4.700480             8.185350  \n",
      "331              1         4.584967             7.984463  \n",
      "1                2         4.852030             8.714568  \n",
      "337              2         5.170484             8.867850  \n",
      "\n",
      "[429 rows x 9 columns]\n"
     ]
    },
    {
     "data": {
      "text/plain": [
       "GridSearchCV(cv=5,\n",
       "             estimator=Pipeline(steps=[('preprocessor',\n",
       "                                        ColumnTransformer(transformers=[('numerical_pipe',\n",
       "                                                                         Pipeline(steps=[('transformer',\n",
       "                                                                                          FunctionTransformer(func=<function log_transform at 0x0000019AC13584C0>)),\n",
       "                                                                                         ('scaler',\n",
       "                                                                                          StandardScaler()),\n",
       "                                                                                         ('selectkbest',\n",
       "                                                                                          SelectKBest(k=3))]),\n",
       "                                                                         ['Gender',\n",
       "                                                                          'Married',\n",
       "                                                                          'Dependents',\n",
       "                                                                          'Education',\n",
       "                                                                          'Self_Employed',\n",
       "                                                                          'Loan_Amount_T...\n",
       "                                                      random_state=None,\n",
       "                                                      reg_alpha=10,\n",
       "                                                      reg_lambda=None, ...))]),\n",
       "             n_jobs=-1,\n",
       "             param_grid={'clf__colsample_bytree': [0.6, 0.8, 1.0],\n",
       "                         'clf__learning_rate': [0.01, 0.06, 0.1, 0.15, 0.2, 0.4,\n",
       "                                                0.6, 0.8],\n",
       "                         'clf__max_depth': [3, 4, 5, 8, 10, 12],\n",
       "                         'clf__n_estimators': [50, 80, 100, 130, 200],\n",
       "                         'clf__reg_alpha': [0, 0.1, 0.4, 0.8, 1.6, 6.4, 12.8,\n",
       "                                            51.2, 200],\n",
       "                         'preprocessor__numerical_pipe__selectkbest__k': [1, 2,\n",
       "                                                                          3]},\n",
       "             verbose=1)"
      ]
     },
     "execution_count": 46,
     "metadata": {},
     "output_type": "execute_result"
    }
   ],
   "source": [
    "#gridsearch for XGBc\n",
    "\n",
    "param_grid2 = {'clf__learning_rate': [0.01, 0.06, 0.1, 0.15, 0.2, 0.4, 0.6, 0.8],\n",
    "              'clf__colsample_bytree': [0.6, 0.8, 1.0],\n",
    "              'clf__max_depth': [3, 4, 5, 8, 10, 12],\n",
    "              'clf__reg_alpha':[0,0.1,0.4,0.8,1.6,6.4,12.8, 51.2,200],\n",
    "              'clf__n_estimators':[50,80,100,130,200],\n",
    "            'preprocessor__numerical_pipe__selectkbest__k':[1,2,3]}\n",
    "\n",
    "grid2 = GridSearchCV(model_pipe_xgbc, param_grid=param_grid2, cv=5, n_jobs=-1,verbose=1,refit = True)\n",
    "grid2.fit(X_train, y_train)"
   ]
  },
  {
   "cell_type": "code",
   "execution_count": 47,
   "metadata": {},
   "outputs": [
    {
     "name": "stdout",
     "output_type": "stream",
     "text": [
      "     Gender  Married  Dependents  Education  Self_Employed  Loan_Amount_Term  \\\n",
      "100       0        1           2          0              0             180.0   \n",
      "45        1        0           0          1              0             360.0   \n",
      "464       0        0           0          1              0             360.0   \n",
      "389       0        1           0          1              0             360.0   \n",
      "553       0        1           0          0              0             360.0   \n",
      "..      ...      ...         ...        ...            ...               ...   \n",
      "192       0        1           0          0              0             360.0   \n",
      "191       0        0           0          1              0             360.0   \n",
      "263       1        0           0          1              0             360.0   \n",
      "130       0        0           0          1              1             480.0   \n",
      "116       1        1           0          1              0             360.0   \n",
      "\n",
      "     Property_Area  log_loan_amount  log_combined_income  \n",
      "100              0         4.890349             8.929435  \n",
      "45               0         4.477337             8.134468  \n",
      "464              1         4.584967             8.334712  \n",
      "389              2         4.828314             8.610319  \n",
      "553              0         5.198497             8.473659  \n",
      "..             ...              ...                  ...  \n",
      "192              0         5.075174             8.705000  \n",
      "191              1         5.099866             9.392662  \n",
      "263              2         4.787492             8.881836  \n",
      "130              0         6.476972             9.911753  \n",
      "116              1         5.036953             8.603371  \n",
      "\n",
      "[185 rows x 9 columns]\n",
      "Best test set accuracy: 0.6918918918918919\n",
      "Achieved with{'clf__colsample_bytree': 0.6, 'clf__learning_rate': 0.06, 'clf__max_depth': 3, 'clf__n_estimators': 50, 'clf__reg_alpha': 1.6, 'preprocessor__numerical_pipe__selectkbest__k': 3}\n"
     ]
    }
   ],
   "source": [
    "best_model2 = grid2.best_estimator_\n",
    "best_hyperparams2 = grid2.best_params_\n",
    "best_acc2 = grid2.score(X_test, y_test)\n",
    "print(f'Best test set accuracy: {best_acc2}\\nAchieved with{best_hyperparams2}')"
   ]
  },
  {
   "cell_type": "code",
   "execution_count": 77,
   "metadata": {},
   "outputs": [
    {
     "data": {
      "text/plain": [
       "Index(['Gender', 'Married', 'Dependents', 'Education', 'Self_Employed',\n",
       "       'Loan_Amount_Term', 'Credit_History', 'Property_Area',\n",
       "       'log_loan_amount', 'log_combined_income'],\n",
       "      dtype='object')"
      ]
     },
     "execution_count": 77,
     "metadata": {},
     "output_type": "execute_result"
    }
   ],
   "source": [
    "X_test.columns"
   ]
  },
  {
   "cell_type": "markdown",
   "metadata": {},
   "source": [
    "## 6. Deploy your model to cloud and test it with PostMan, BASH or Python"
   ]
  },
  {
   "cell_type": "code",
   "execution_count": 48,
   "metadata": {},
   "outputs": [],
   "source": [
    "import pickle"
   ]
  },
  {
   "cell_type": "code",
   "execution_count": null,
   "metadata": {},
   "outputs": [],
   "source": [
    "with open('bestmodel.pickle', 'wb') as f:\n",
    "    pickle.dump(best_model, f)\n"
   ]
  },
  {
   "cell_type": "code",
   "execution_count": null,
   "metadata": {},
   "outputs": [],
   "source": [
    "with open('modelpipe.pickle', 'wb') as f:\n",
    "    pickle.dump(model_pipe_rfc, f)"
   ]
  },
  {
   "cell_type": "code",
   "execution_count": 49,
   "metadata": {},
   "outputs": [],
   "source": [
    "with open('modelpipe_best_xgb.pickle', 'wb') as f:\n",
    "    pickle.dump(grid2, f)"
   ]
  },
  {
   "cell_type": "code",
   "execution_count": 78,
   "metadata": {},
   "outputs": [],
   "source": [
    "import requests"
   ]
  },
  {
   "cell_type": "code",
   "execution_count": 79,
   "metadata": {},
   "outputs": [],
   "source": [
    "data = {\"0\": {\"Gender\": 0, \"Married\": 0, \"Dependents\": 0, \"Education\": 1, \"Self_Employed\": 0, \"ApplicantIncome\": 5849, \"CoapplicantIncome\": 0.0, \"LoanAmount\": 134.9814814815, \"Loan_Amount_Term\": 360.0, \"Credit_History\": 1.0, \"Property_Area\": 0}, \"1\": {\"Gender\": 0, \"Married\": 1, \"Dependents\": 1, \"Education\": 1, \"Self_Employed\": 0, \"ApplicantIncome\": 4583, \"CoapplicantIncome\": 1508.0, \"LoanAmount\": 128.0, \"Loan_Amount_Term\": 360.0, \"Credit_History\": 1.0, \"Property_Area\": 2}}"
   ]
  },
  {
   "cell_type": "code",
   "execution_count": 88,
   "metadata": {},
   "outputs": [],
   "source": [
    "def log_transform(x):\n",
    "    log_combined_income = np.log(x['ApplicantIncome']+x['CoapplicantIncome'])\n",
    "    log_loan_amount = np.log(x['LoanAmount'])\n",
    "    x[\"log_loan_amount\"]=log_loan_amount\n",
    "    x[\"log_combined_income\"]=log_combined_income\n",
    "    x.pop(\"ApplicantIncome\")\n",
    "    x.pop(\"CoapplicantIncome\")\n",
    "    x.pop(\"LoanAmount\")\n",
    "    return x"
   ]
  },
  {
   "cell_type": "code",
   "execution_count": 89,
   "metadata": {},
   "outputs": [
    {
     "ename": "KeyError",
     "evalue": "'ApplicantIncome'",
     "output_type": "error",
     "traceback": [
      "\u001b[1;31m---------------------------------------------------------------------------\u001b[0m",
      "\u001b[1;31mKeyError\u001b[0m                                  Traceback (most recent call last)",
      "\u001b[1;32m~\\AppData\\Local\\Temp/ipykernel_22012/3391200268.py\u001b[0m in \u001b[0;36m<module>\u001b[1;34m\u001b[0m\n\u001b[1;32m----> 1\u001b[1;33m \u001b[0mdata_final\u001b[0m \u001b[1;33m=\u001b[0m \u001b[0mlog_transform\u001b[0m\u001b[1;33m(\u001b[0m\u001b[0mdata\u001b[0m\u001b[1;33m[\u001b[0m\u001b[1;34m'0'\u001b[0m\u001b[1;33m]\u001b[0m\u001b[1;33m)\u001b[0m\u001b[1;33m\u001b[0m\u001b[1;33m\u001b[0m\u001b[0m\n\u001b[0m",
      "\u001b[1;32m~\\AppData\\Local\\Temp/ipykernel_22012/674439106.py\u001b[0m in \u001b[0;36mlog_transform\u001b[1;34m(x)\u001b[0m\n\u001b[0;32m      1\u001b[0m \u001b[1;32mdef\u001b[0m \u001b[0mlog_transform\u001b[0m\u001b[1;33m(\u001b[0m\u001b[0mx\u001b[0m\u001b[1;33m)\u001b[0m\u001b[1;33m:\u001b[0m\u001b[1;33m\u001b[0m\u001b[1;33m\u001b[0m\u001b[0m\n\u001b[1;32m----> 2\u001b[1;33m     \u001b[0mlog_combined_income\u001b[0m \u001b[1;33m=\u001b[0m \u001b[0mnp\u001b[0m\u001b[1;33m.\u001b[0m\u001b[0mlog\u001b[0m\u001b[1;33m(\u001b[0m\u001b[0mx\u001b[0m\u001b[1;33m[\u001b[0m\u001b[1;34m'ApplicantIncome'\u001b[0m\u001b[1;33m]\u001b[0m\u001b[1;33m+\u001b[0m\u001b[0mx\u001b[0m\u001b[1;33m[\u001b[0m\u001b[1;34m'CoapplicantIncome'\u001b[0m\u001b[1;33m]\u001b[0m\u001b[1;33m)\u001b[0m\u001b[1;33m\u001b[0m\u001b[1;33m\u001b[0m\u001b[0m\n\u001b[0m\u001b[0;32m      3\u001b[0m     \u001b[0mlog_loan_amount\u001b[0m \u001b[1;33m=\u001b[0m \u001b[0mnp\u001b[0m\u001b[1;33m.\u001b[0m\u001b[0mlog\u001b[0m\u001b[1;33m(\u001b[0m\u001b[0mx\u001b[0m\u001b[1;33m[\u001b[0m\u001b[1;34m'LoanAmount'\u001b[0m\u001b[1;33m]\u001b[0m\u001b[1;33m)\u001b[0m\u001b[1;33m\u001b[0m\u001b[1;33m\u001b[0m\u001b[0m\n\u001b[0;32m      4\u001b[0m     \u001b[0mx\u001b[0m\u001b[1;33m[\u001b[0m\u001b[1;34m\"log_loan_amount\"\u001b[0m\u001b[1;33m]\u001b[0m\u001b[1;33m=\u001b[0m\u001b[0mlog_loan_amount\u001b[0m\u001b[1;33m\u001b[0m\u001b[1;33m\u001b[0m\u001b[0m\n\u001b[0;32m      5\u001b[0m     \u001b[0mx\u001b[0m\u001b[1;33m[\u001b[0m\u001b[1;34m\"log_combined_income\"\u001b[0m\u001b[1;33m]\u001b[0m\u001b[1;33m=\u001b[0m\u001b[0mlog_combined_income\u001b[0m\u001b[1;33m\u001b[0m\u001b[1;33m\u001b[0m\u001b[0m\n",
      "\u001b[1;31mKeyError\u001b[0m: 'ApplicantIncome'"
     ]
    }
   ],
   "source": [
    "data_final = log_transform(data['0'])"
   ]
  },
  {
   "cell_type": "code",
   "execution_count": 96,
   "metadata": {},
   "outputs": [
    {
     "data": {
      "text/plain": [
       "{'Gender': 0,\n",
       " 'Married': 0,\n",
       " 'Dependents': 0,\n",
       " 'Education': 1,\n",
       " 'Self_Employed': 0,\n",
       " 'Loan_Amount_Term': 360.0,\n",
       " 'Credit_History': 1.0,\n",
       " 'Property_Area': 0,\n",
       " 'log_loan_amount': 4.9051375948180755,\n",
       " 'log_combined_income': 8.674025985443025}"
      ]
     },
     "execution_count": 96,
     "metadata": {},
     "output_type": "execute_result"
    }
   ],
   "source": [
    "data_final"
   ]
  },
  {
   "cell_type": "code",
   "execution_count": 97,
   "metadata": {},
   "outputs": [],
   "source": [
    "import json\n",
    "#ec2-18-237-16-36.us-west-2.compute.amazonaws.com"
   ]
  },
  {
   "cell_type": "code",
   "execution_count": 98,
   "metadata": {},
   "outputs": [],
   "source": [
    "URL='http://ec2-18-237-16-36.us-west-2.compute.amazonaws.com:5000/scoring'"
   ]
  },
  {
   "cell_type": "code",
   "execution_count": 99,
   "metadata": {},
   "outputs": [],
   "source": [
    "r = requests.post(url = URL, json = data_final) "
   ]
  },
  {
   "cell_type": "code",
   "execution_count": 100,
   "metadata": {},
   "outputs": [
    {
     "name": "stdout",
     "output_type": "stream",
     "text": [
      "Loan Approved!\n"
     ]
    }
   ],
   "source": [
    "if r.json()==[1]:\n",
    "    print('Loan Approved!')\n",
    "if r.json()==[0]:\n",
    "    print('Sorry,  Loan Not Approved')"
   ]
  },
  {
   "cell_type": "code",
   "execution_count": 101,
   "metadata": {},
   "outputs": [
    {
     "data": {
      "text/plain": [
       "<Response [200]>"
      ]
     },
     "execution_count": 101,
     "metadata": {},
     "output_type": "execute_result"
    }
   ],
   "source": [
    "r"
   ]
  },
  {
   "cell_type": "code",
   "execution_count": null,
   "metadata": {},
   "outputs": [],
   "source": []
  }
 ],
 "metadata": {
  "kernelspec": {
   "display_name": "Python 3 (ipykernel)",
   "language": "python",
   "name": "python3"
  },
  "language_info": {
   "codemirror_mode": {
    "name": "ipython",
    "version": 3
   },
   "file_extension": ".py",
   "mimetype": "text/x-python",
   "name": "python",
   "nbconvert_exporter": "python",
   "pygments_lexer": "ipython3",
   "version": "3.9.7"
  }
 },
 "nbformat": 4,
 "nbformat_minor": 4
}
